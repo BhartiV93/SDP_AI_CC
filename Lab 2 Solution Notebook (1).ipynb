{
 "cells": [
  {
   "cell_type": "markdown",
   "id": "5cc737c6",
   "metadata": {},
   "source": [
    "# EDUNET FOUNDATION-Self-Practice Notebook"
   ]
  },
  {
   "cell_type": "markdown",
   "id": "ed190e24",
   "metadata": {},
   "source": [
    "# Lab2: Solutions Notebook"
   ]
  },
  {
   "cell_type": "markdown",
   "id": "e9a46146",
   "metadata": {},
   "source": [
    "Problem 1: Write a program to print your name in capital letters."
   ]
  },
  {
   "cell_type": "code",
   "execution_count": 2,
   "id": "4df0f15f",
   "metadata": {},
   "outputs": [
    {
     "name": "stdout",
     "output_type": "stream",
     "text": [
      "SHILPA\n"
     ]
    }
   ],
   "source": [
    "name = \"SHILPA\"\n",
    "print(name)"
   ]
  },
  {
   "cell_type": "markdown",
   "id": "9fc89a30",
   "metadata": {},
   "source": [
    "Problem 2: Write a program to print integer value in python."
   ]
  },
  {
   "cell_type": "code",
   "execution_count": 3,
   "id": "6b5aaba3",
   "metadata": {},
   "outputs": [
    {
     "name": "stdout",
     "output_type": "stream",
     "text": [
      "9\n"
     ]
    }
   ],
   "source": [
    "roll_no = 9\n",
    "print(roll_no)"
   ]
  },
  {
   "cell_type": "code",
   "execution_count": null,
   "id": "158761ef",
   "metadata": {},
   "outputs": [],
   "source": []
  }
 ],
 "metadata": {
  "kernelspec": {
   "display_name": "Python 3",
   "language": "python",
   "name": "python3"
  },
  "language_info": {
   "codemirror_mode": {
    "name": "ipython",
    "version": 3
   },
   "file_extension": ".py",
   "mimetype": "text/x-python",
   "name": "python",
   "nbconvert_exporter": "python",
   "pygments_lexer": "ipython3",
   "version": "3.8.8"
  }
 },
 "nbformat": 4,
 "nbformat_minor": 5
}
