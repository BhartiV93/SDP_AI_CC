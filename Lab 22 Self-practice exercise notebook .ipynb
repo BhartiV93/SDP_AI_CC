{
 "cells": [
  {
   "cell_type": "markdown",
   "id": "470b54c7",
   "metadata": {},
   "source": [
    "## EDUNET FOUNDATION - Class Practice Exercise Notebook"
   ]
  },
  {
   "cell_type": "markdown",
   "id": "0fff823e",
   "metadata": {},
   "source": [
    "### LAB 22 - Implementing Support Vector Machine Concepts in Python"
   ]
  },
  {
   "cell_type": "markdown",
   "id": "56a0046e",
   "metadata": {},
   "source": [
    "**Problem 1:** Predict if the cancer diagnosis is benign or malignant based on several observations/features."
   ]
  },
  {
   "cell_type": "code",
   "execution_count": null,
   "id": "9857cc10",
   "metadata": {},
   "outputs": [],
   "source": []
  }
 ],
 "metadata": {
  "kernelspec": {
   "display_name": "Python 3 (ipykernel)",
   "language": "python",
   "name": "python3"
  },
  "language_info": {
   "codemirror_mode": {
    "name": "ipython",
    "version": 3
   },
   "file_extension": ".py",
   "mimetype": "text/x-python",
   "name": "python",
   "nbconvert_exporter": "python",
   "pygments_lexer": "ipython3",
   "version": "3.11.3"
  }
 },
 "nbformat": 4,
 "nbformat_minor": 5
}
