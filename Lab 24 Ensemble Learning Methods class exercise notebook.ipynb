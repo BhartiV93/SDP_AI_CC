{
 "cells": [
  {
   "cell_type": "code",
   "execution_count": null,
   "id": "36019512",
   "metadata": {},
   "outputs": [],
   "source": []
  },
  {
   "cell_type": "markdown",
   "id": "ab56be8b",
   "metadata": {},
   "source": [
    "## EDUNET FOUNDATION - Self-Practice Exercise Notebook"
   ]
  },
  {
   "cell_type": "markdown",
   "id": "a776a3ea",
   "metadata": {},
   "source": [
    "### LAB 24 - Implementing Ensemble Learning Concepts in Python"
   ]
  },
  {
   "cell_type": "code",
   "execution_count": 2,
   "id": "a269847b",
   "metadata": {},
   "outputs": [],
   "source": [
    "#!pip install xgboost"
   ]
  },
  {
   "cell_type": "markdown",
   "id": "8336c145",
   "metadata": {},
   "source": [
    "<center><h1> Boosting Algorithms</h1></center>\n",
    "\n",
    "\n",
    "- The Noteook uses the [UCI Machine Learning Mushroom Dataset](https://www.kaggle.com/datasets/uciml/mushroom-classification) to implement the AdaBoost and XGBoost algorithms. \n",
    "- For the set of features in the dataset, the task is to identify whether the type of mushroom is poisonous or edible."
   ]
  },
  {
   "cell_type": "markdown",
   "id": "ec8b52c1",
   "metadata": {},
   "source": [
    "### First, let’s import the required libraries for data preprocessing."
   ]
  },
  {
   "cell_type": "code",
   "execution_count": 3,
   "id": "4eb1d0a4",
   "metadata": {},
   "outputs": [],
   "source": [
    "import numpy as np\n",
    "import pandas as pd"
   ]
  },
  {
   "cell_type": "markdown",
   "id": "496f0d29",
   "metadata": {},
   "source": [
    "Now, let’s import the dataset using the read_csv() method in Pandas and analyze the number of distinct categories in each feature. If a feature has only one unique value, we can drop it, as it has no significance while building the model.\n",
    "Link for dataset: https://drive.google.com/file/d/1iXup6AV0rIRHG_LCs1v_JXXVd64duMEL/view?usp=drive_link"
   ]
  },
  {
   "cell_type": "code",
   "execution_count": 5,
   "id": "08c32369",
   "metadata": {},
   "outputs": [
    {
     "data": {
      "text/html": [
       "<div>\n",
       "<style scoped>\n",
       "    .dataframe tbody tr th:only-of-type {\n",
       "        vertical-align: middle;\n",
       "    }\n",
       "\n",
       "    .dataframe tbody tr th {\n",
       "        vertical-align: top;\n",
       "    }\n",
       "\n",
       "    .dataframe thead th {\n",
       "        text-align: right;\n",
       "    }\n",
       "</style>\n",
       "<table border=\"1\" class=\"dataframe\">\n",
       "  <thead>\n",
       "    <tr style=\"text-align: right;\">\n",
       "      <th></th>\n",
       "      <th>class</th>\n",
       "      <th>cap-shape</th>\n",
       "      <th>cap-surface</th>\n",
       "      <th>cap-color</th>\n",
       "      <th>bruises</th>\n",
       "      <th>odor</th>\n",
       "      <th>gill-attachment</th>\n",
       "      <th>gill-spacing</th>\n",
       "      <th>gill-size</th>\n",
       "      <th>gill-color</th>\n",
       "      <th>...</th>\n",
       "      <th>stalk-surface-below-ring</th>\n",
       "      <th>stalk-color-above-ring</th>\n",
       "      <th>stalk-color-below-ring</th>\n",
       "      <th>veil-type</th>\n",
       "      <th>veil-color</th>\n",
       "      <th>ring-number</th>\n",
       "      <th>ring-type</th>\n",
       "      <th>spore-print-color</th>\n",
       "      <th>population</th>\n",
       "      <th>habitat</th>\n",
       "    </tr>\n",
       "  </thead>\n",
       "  <tbody>\n",
       "    <tr>\n",
       "      <th>0</th>\n",
       "      <td>p</td>\n",
       "      <td>x</td>\n",
       "      <td>s</td>\n",
       "      <td>n</td>\n",
       "      <td>t</td>\n",
       "      <td>p</td>\n",
       "      <td>f</td>\n",
       "      <td>c</td>\n",
       "      <td>n</td>\n",
       "      <td>k</td>\n",
       "      <td>...</td>\n",
       "      <td>s</td>\n",
       "      <td>w</td>\n",
       "      <td>w</td>\n",
       "      <td>p</td>\n",
       "      <td>w</td>\n",
       "      <td>o</td>\n",
       "      <td>p</td>\n",
       "      <td>k</td>\n",
       "      <td>s</td>\n",
       "      <td>u</td>\n",
       "    </tr>\n",
       "    <tr>\n",
       "      <th>1</th>\n",
       "      <td>e</td>\n",
       "      <td>x</td>\n",
       "      <td>s</td>\n",
       "      <td>y</td>\n",
       "      <td>t</td>\n",
       "      <td>a</td>\n",
       "      <td>f</td>\n",
       "      <td>c</td>\n",
       "      <td>b</td>\n",
       "      <td>k</td>\n",
       "      <td>...</td>\n",
       "      <td>s</td>\n",
       "      <td>w</td>\n",
       "      <td>w</td>\n",
       "      <td>p</td>\n",
       "      <td>w</td>\n",
       "      <td>o</td>\n",
       "      <td>p</td>\n",
       "      <td>n</td>\n",
       "      <td>n</td>\n",
       "      <td>g</td>\n",
       "    </tr>\n",
       "    <tr>\n",
       "      <th>2</th>\n",
       "      <td>e</td>\n",
       "      <td>b</td>\n",
       "      <td>s</td>\n",
       "      <td>w</td>\n",
       "      <td>t</td>\n",
       "      <td>l</td>\n",
       "      <td>f</td>\n",
       "      <td>c</td>\n",
       "      <td>b</td>\n",
       "      <td>n</td>\n",
       "      <td>...</td>\n",
       "      <td>s</td>\n",
       "      <td>w</td>\n",
       "      <td>w</td>\n",
       "      <td>p</td>\n",
       "      <td>w</td>\n",
       "      <td>o</td>\n",
       "      <td>p</td>\n",
       "      <td>n</td>\n",
       "      <td>n</td>\n",
       "      <td>m</td>\n",
       "    </tr>\n",
       "    <tr>\n",
       "      <th>3</th>\n",
       "      <td>p</td>\n",
       "      <td>x</td>\n",
       "      <td>y</td>\n",
       "      <td>w</td>\n",
       "      <td>t</td>\n",
       "      <td>p</td>\n",
       "      <td>f</td>\n",
       "      <td>c</td>\n",
       "      <td>n</td>\n",
       "      <td>n</td>\n",
       "      <td>...</td>\n",
       "      <td>s</td>\n",
       "      <td>w</td>\n",
       "      <td>w</td>\n",
       "      <td>p</td>\n",
       "      <td>w</td>\n",
       "      <td>o</td>\n",
       "      <td>p</td>\n",
       "      <td>k</td>\n",
       "      <td>s</td>\n",
       "      <td>u</td>\n",
       "    </tr>\n",
       "    <tr>\n",
       "      <th>4</th>\n",
       "      <td>e</td>\n",
       "      <td>x</td>\n",
       "      <td>s</td>\n",
       "      <td>g</td>\n",
       "      <td>f</td>\n",
       "      <td>n</td>\n",
       "      <td>f</td>\n",
       "      <td>w</td>\n",
       "      <td>b</td>\n",
       "      <td>k</td>\n",
       "      <td>...</td>\n",
       "      <td>s</td>\n",
       "      <td>w</td>\n",
       "      <td>w</td>\n",
       "      <td>p</td>\n",
       "      <td>w</td>\n",
       "      <td>o</td>\n",
       "      <td>e</td>\n",
       "      <td>n</td>\n",
       "      <td>a</td>\n",
       "      <td>g</td>\n",
       "    </tr>\n",
       "  </tbody>\n",
       "</table>\n",
       "<p>5 rows × 23 columns</p>\n",
       "</div>"
      ],
      "text/plain": [
       "  class cap-shape cap-surface cap-color bruises odor gill-attachment  \\\n",
       "0     p         x           s         n       t    p               f   \n",
       "1     e         x           s         y       t    a               f   \n",
       "2     e         b           s         w       t    l               f   \n",
       "3     p         x           y         w       t    p               f   \n",
       "4     e         x           s         g       f    n               f   \n",
       "\n",
       "  gill-spacing gill-size gill-color  ... stalk-surface-below-ring  \\\n",
       "0            c         n          k  ...                        s   \n",
       "1            c         b          k  ...                        s   \n",
       "2            c         b          n  ...                        s   \n",
       "3            c         n          n  ...                        s   \n",
       "4            w         b          k  ...                        s   \n",
       "\n",
       "  stalk-color-above-ring stalk-color-below-ring veil-type veil-color  \\\n",
       "0                      w                      w         p          w   \n",
       "1                      w                      w         p          w   \n",
       "2                      w                      w         p          w   \n",
       "3                      w                      w         p          w   \n",
       "4                      w                      w         p          w   \n",
       "\n",
       "  ring-number ring-type spore-print-color population habitat  \n",
       "0           o         p                 k          s       u  \n",
       "1           o         p                 n          n       g  \n",
       "2           o         p                 n          n       m  \n",
       "3           o         p                 k          s       u  \n",
       "4           o         e                 n          a       g  \n",
       "\n",
       "[5 rows x 23 columns]"
      ]
     },
     "execution_count": 5,
     "metadata": {},
     "output_type": "execute_result"
    }
   ],
   "source": [
    "df = pd.read_csv(\"mushrooms.csv\")\n",
    "df.head()"
   ]
  },
  {
   "cell_type": "code",
   "execution_count": 7,
   "id": "5480a05f",
   "metadata": {},
   "outputs": [
    {
     "data": {
      "text/plain": [
       "(8124, 23)"
      ]
     },
     "execution_count": 7,
     "metadata": {},
     "output_type": "execute_result"
    }
   ],
   "source": [
    "df.shape"
   ]
  },
  {
   "cell_type": "code",
   "execution_count": 8,
   "id": "be80e3e8",
   "metadata": {},
   "outputs": [
    {
     "name": "stdout",
     "output_type": "stream",
     "text": [
      "Unique value count of class is 2\n",
      "Unique value count of cap-shape is 6\n",
      "Unique value count of cap-surface is 4\n",
      "Unique value count of cap-color is 10\n",
      "Unique value count of bruises is 2\n",
      "Unique value count of odor is 9\n",
      "Unique value count of gill-attachment is 2\n",
      "Unique value count of gill-spacing is 2\n",
      "Unique value count of gill-size is 2\n",
      "Unique value count of gill-color is 12\n",
      "Unique value count of stalk-shape is 2\n",
      "Unique value count of stalk-root is 5\n",
      "Unique value count of stalk-surface-above-ring is 4\n",
      "Unique value count of stalk-surface-below-ring is 4\n",
      "Unique value count of stalk-color-above-ring is 9\n",
      "Unique value count of stalk-color-below-ring is 9\n",
      "Unique value count of veil-type is 1\n",
      "Unique value count of veil-color is 4\n",
      "Unique value count of ring-number is 3\n",
      "Unique value count of ring-type is 5\n",
      "Unique value count of spore-print-color is 9\n",
      "Unique value count of population is 6\n",
      "Unique value count of habitat is 7\n"
     ]
    }
   ],
   "source": [
    "for col in df.columns:\n",
    "    print('Unique value count of', col, 'is', len(df[col].unique()))"
   ]
  },
  {
   "cell_type": "markdown",
   "id": "c04cfbe4",
   "metadata": {},
   "source": [
    "- As you can see Unique value count of `veil-type` is 1, the feature `veil-type` has only one distinct value in it and hence, can be dropped."
   ]
  },
  {
   "cell_type": "code",
   "execution_count": 9,
   "id": "7a98f48a",
   "metadata": {},
   "outputs": [],
   "source": [
    "df = df.drop(\"veil-type\", axis=1)"
   ]
  },
  {
   "cell_type": "markdown",
   "id": "fa9cd988",
   "metadata": {},
   "source": [
    "Since machine learning models prefer numerical data, let’s convert the dataset to numbers by encoding it. `LabelEncoder()` is a method in the Scikit-Learn package that converts labels to numbers."
   ]
  },
  {
   "cell_type": "code",
   "execution_count": 11,
   "id": "e044f8db",
   "metadata": {},
   "outputs": [],
   "source": [
    "from sklearn.preprocessing import LabelEncoder\n",
    "\n",
    "label_encoder = LabelEncoder()\n",
    "for column in df.columns:\n",
    "    df[column] = label_encoder.fit_transform(df[column])"
   ]
  },
  {
   "cell_type": "markdown",
   "id": "7414b97d",
   "metadata": {},
   "source": [
    "Splitting the dataset into a target matrix Y and a feature matrix X,"
   ]
  },
  {
   "cell_type": "code",
   "execution_count": 12,
   "id": "104ac399",
   "metadata": {},
   "outputs": [],
   "source": [
    "X = df.loc[:, df.columns != 'class']\n",
    "Y = df['class']"
   ]
  },
  {
   "cell_type": "code",
   "execution_count": 13,
   "id": "bf8f1e86",
   "metadata": {},
   "outputs": [
    {
     "data": {
      "text/plain": [
       "(8124, 21)"
      ]
     },
     "execution_count": 13,
     "metadata": {},
     "output_type": "execute_result"
    }
   ],
   "source": [
    "X.shape"
   ]
  },
  {
   "cell_type": "code",
   "execution_count": 15,
   "id": "c4a0c5db",
   "metadata": {},
   "outputs": [
    {
     "data": {
      "text/plain": [
       "(8124,)"
      ]
     },
     "execution_count": 15,
     "metadata": {},
     "output_type": "execute_result"
    }
   ],
   "source": [
    "Y.shape"
   ]
  },
  {
   "cell_type": "markdown",
   "id": "981d9b2e",
   "metadata": {},
   "source": [
    "The dataset must be be split into two - training and testing data. Let us go ahead and split the data, 70% of it for training and 30% for testing and standardize the values."
   ]
  },
  {
   "cell_type": "code",
   "execution_count": 17,
   "id": "d0891835",
   "metadata": {},
   "outputs": [],
   "source": [
    "from sklearn.model_selection import train_test_split\n",
    "from sklearn.preprocessing import StandardScaler\n",
    "\n",
    "X_train, X_test, Y_train, Y_test = train_test_split(X, Y, test_size = 0.3, random_state = 100)\n",
    "scaler = StandardScaler()\n",
    "X_train = scaler.fit_transform(X_train)\n",
    "X_test = scaler.transform(X_test)"
   ]
  },
  {
   "cell_type": "markdown",
   "id": "c47d4e59",
   "metadata": {},
   "source": [
    "## AdaBoost Implementation in Python"
   ]
  },
  {
   "cell_type": "markdown",
   "id": "af2185f8",
   "metadata": {},
   "source": [
    "The sklearn library in Python has an `AdaBoostClassifier` method which is used to classify the features as poisonous or edible.\n",
    "\n",
    "The method has the following parameters:\n",
    "\n",
    "- `base_estimator:` The boosted ensemble is built from this parameter. If None, the value is DecisionTreeClassifier(max_depth=1).\n",
    "- `n_estimators:` The upper limit in estimators at which boosting is terminated with a default value of 50. If there is a perfect fit, learning is stopped early.\n",
    "- `learning_rate:` The learning rate reduces the contribution of the classifier by this value. It has a default value of 1.\n",
    "- `algorithm:` Default value of ‘SAAME’. Another option for this parameter, SAMME.R algorithm, converges faster than SAMME algorithm while taking fewer boosting iterations and producing lower test errors.\n",
    "- `random_state:` Seed used by the random number generator.\n",
    "\n",
    "Let us invoke an instance of the AdaBoostClassifier and fit it with the training data."
   ]
  },
  {
   "cell_type": "code",
   "execution_count": 19,
   "id": "41338243",
   "metadata": {},
   "outputs": [],
   "source": [
    "from sklearn.ensemble import AdaBoostClassifier\n",
    "\n",
    "adaboost = AdaBoostClassifier(n_estimators = 50, learning_rate = 0.2).fit(X_train, Y_train)\n",
    "score = adaboost.score(X_test, Y_test)"
   ]
  },
  {
   "cell_type": "code",
   "execution_count": 20,
   "id": "85528e8c",
   "metadata": {},
   "outputs": [
    {
     "data": {
      "text/plain": [
       "0.9848236259228876"
      ]
     },
     "execution_count": 20,
     "metadata": {},
     "output_type": "execute_result"
    }
   ],
   "source": [
    "score"
   ]
  },
  {
   "cell_type": "markdown",
   "id": "a3e19ea5",
   "metadata": {},
   "source": [
    "## XGBoost implementation in Python"
   ]
  },
  {
   "cell_type": "markdown",
   "id": "435b4370",
   "metadata": {},
   "source": [
    "Unlike AdaBoost, `XGBoost` has a separate library for itself, which hopefully was installed at the beginning. Before importing the library and creating an instance of the `XGBClassifier`, let us take a look at some of the parameters required for invoking the `XGBClassifier` method.\n",
    "\n",
    "- `max_depth:` Maximum depth of the tree for base learners.\n",
    "- `learning_rate:` The learning rate of the XGBooster.\n",
    "- `verbosity:` The degree of verbosity. Valid values are between 0 (silent) and 3 (debug).\n",
    "- `objective:` The learning objective to be used.\n",
    "- `booster:` The booster to be chosen amongst gbtree, gblinear and dart.\n",
    "- `tree_method:` The tree method to be used. The most conservative option is set as default.\n",
    "- `n_jobs:` Number of parallel threads.\n",
    "- `gamma:` Minimum loss reduction required to make another split on a leaf node of the tree.\n",
    "- `reg_alpha:` L1 regularization term on weights of XGBoost.\n",
    "- `reg_lambda:` L2 regularization term on weights of XGBoost.\n",
    "- `base_score:` The initial prediction (also called global bias).\n",
    "- `random_state:` Random number seed.\n",
    "- `importance_type:` The feature to focus on; either gain, weight, cover, total_gain or total_cover."
   ]
  },
  {
   "cell_type": "code",
   "execution_count": 21,
   "id": "feacfa03",
   "metadata": {},
   "outputs": [
    {
     "name": "stderr",
     "output_type": "stream",
     "text": [
      "C:\\Users\\AbdulAziz\\anaconda3\\envs\\tf\\lib\\site-packages\\xgboost\\sklearn.py:835: UserWarning: `early_stopping_rounds` in `fit` method is deprecated for better compatibility with scikit-learn, use `early_stopping_rounds` in constructor or`set_params` instead.\n",
      "  warnings.warn(\n"
     ]
    }
   ],
   "source": [
    "from xgboost import XGBClassifier\n",
    "xgboost = XGBClassifier(n_estimators = 1000, learning_rate = 0.05).fit(X_train, Y_train, early_stopping_rounds = 5, eval_set = [(X_test, Y_test)],verbose = False)\n",
    "score_xgb = xgboost.score(X_test,Y_test)"
   ]
  },
  {
   "cell_type": "code",
   "execution_count": 22,
   "id": "71db38db",
   "metadata": {},
   "outputs": [
    {
     "data": {
      "text/plain": [
       "1.0"
      ]
     },
     "execution_count": 22,
     "metadata": {},
     "output_type": "execute_result"
    }
   ],
   "source": [
    "score_xgb"
   ]
  },
  {
   "cell_type": "markdown",
   "id": "f3847253",
   "metadata": {},
   "source": [
    "By experimenting with the parameters, one can achieve 100% accuracy with this dataset."
   ]
  },
  {
   "cell_type": "markdown",
   "id": "f62ba33e",
   "metadata": {},
   "source": [
    "## Reference\n",
    "\n",
    "1. https://www.section.io/engineering-education/boosting-algorithms-python/\n",
    "\n",
    "2. https://arxiv.org/pdf/1603.02754.pdf\n",
    "\n",
    "3. https://xgboost.ai/\n",
    "\n",
    "4. http://rob.schapire.net/papers/explaining-adaboost.pdf\n",
    "\n",
    "5. https://www.analyticsvidhya.com/blog/2020/03/one-hot-encoding-vs-label-encoding-using-scikit-learn/\n",
    "\n",
    "6. https://www.section.io/engineering-education/introduction-to-scikit-learn-in-python/"
   ]
  }
 ],
 "metadata": {
  "kernelspec": {
   "display_name": "Python 3 (ipykernel)",
   "language": "python",
   "name": "python3"
  },
  "language_info": {
   "codemirror_mode": {
    "name": "ipython",
    "version": 3
   },
   "file_extension": ".py",
   "mimetype": "text/x-python",
   "name": "python",
   "nbconvert_exporter": "python",
   "pygments_lexer": "ipython3",
   "version": "3.11.3"
  }
 },
 "nbformat": 4,
 "nbformat_minor": 5
}
