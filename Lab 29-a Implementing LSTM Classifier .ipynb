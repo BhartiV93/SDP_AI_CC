{
 "cells": [
  {
   "cell_type": "markdown",
   "id": "866464d1",
   "metadata": {},
   "source": [
    "#  EDUNET FOUNDATION-Class Exercise Notebook\n",
    "\n",
    "# Lab 29-a Implementing LSTM Classifier "
   ]
  },
  {
   "cell_type": "markdown",
   "id": "1ed376eb",
   "metadata": {},
   "source": [
    "## Create an LSTM classifier Model"
   ]
  },
  {
   "cell_type": "markdown",
   "id": "d0139580",
   "metadata": {},
   "source": []
  },
  {
   "cell_type": "markdown",
   "id": "a3b7040c",
   "metadata": {},
   "source": [
    " LSTM networks are an extension of recurrent neural networks (RNNs) mainly introduced to handle situations where RNNs fail. \n",
    "\n",
    " It fails to store information for a longer period of time. At times, a reference to certain information stored quite a long time ago is required to predict the current output. But RNNs are absolutely incapable of handling such “long-term dependencies”.\n",
    "\n",
    " There is no finer control over which part of the context needs to be carried forward and how much of the past needs to be ‘forgotten’. \n",
    "\n",
    " Other issues with RNNs are exploding and vanishing gradients which occur during the training process of a network through backtracking. \n",
    "\n",
    " Thus, Long Short-Term Memory (LSTM) was brought into the picture. It has been so designed that the vanishing gradient problem is almost completely removed, while the training model is left unaltered. Long-time lags in certain problems are bridged using LSTMs which also handle noise, distributed representations, and continuous values. With LSTMs, there is no need to keep a finite number of states from beforehand as required in the hidden Markov model (HMM). LSTMs provide us with a large range of parameters such as learning rates, and input and output biases."
   ]
  },
  {
   "cell_type": "markdown",
   "id": "01bfa7f9",
   "metadata": {},
   "source": [
    "## Import necessary libraries "
   ]
  },
  {
   "cell_type": "code",
   "execution_count": 1,
   "id": "50958a86",
   "metadata": {},
   "outputs": [],
   "source": [
    "import tensorflow as tf\n",
    "from tensorflow.keras.datasets import imdb\n",
    "from tensorflow.keras.models import Sequential\n",
    "from tensorflow.keras.layers import Dense\n",
    "from tensorflow.keras.layers import LSTM\n",
    "from tensorflow.keras.layers import Embedding\n",
    "from tensorflow.keras.preprocessing import sequence\n",
    "# fix random seed for reproducibility\n",
    "tf.random.set_seed(7)"
   ]
  },
  {
   "cell_type": "markdown",
   "id": "d3c4c40e",
   "metadata": {},
   "source": [
    "## Load dataset and divide it into training and testnig"
   ]
  },
  {
   "cell_type": "code",
   "execution_count": 2,
   "id": "6c06f089",
   "metadata": {},
   "outputs": [
    {
     "name": "stdout",
     "output_type": "stream",
     "text": [
      "Downloading data from https://storage.googleapis.com/tensorflow/tf-keras-datasets/imdb.npz\n",
      "17464789/17464789 [==============================] - 5s 0us/step\n"
     ]
    }
   ],
   "source": [
    "# load the dataset but only keep the top n words, zero the rest\n",
    "top_words = 5000\n",
    "(X_train, y_train), (X_test, y_test) = imdb.load_data(num_words=top_words)"
   ]
  },
  {
   "cell_type": "markdown",
   "id": "1f8ccf49",
   "metadata": {},
   "source": [
    "## Prepreocessing text data"
   ]
  },
  {
   "cell_type": "code",
   "execution_count": 3,
   "id": "ec49603b",
   "metadata": {},
   "outputs": [],
   "source": [
    "\n",
    "# truncate and pad input sequences\n",
    "max_review_length = 500\n",
    "X_train = sequence.pad_sequences(X_train, maxlen=max_review_length)\n",
    "X_test = sequence.pad_sequences(X_test, maxlen=max_review_length)"
   ]
  },
  {
   "cell_type": "markdown",
   "id": "84bc92ac",
   "metadata": {},
   "source": [
    "## Create an LSTM model and train"
   ]
  },
  {
   "cell_type": "code",
   "execution_count": 4,
   "id": "20363af2",
   "metadata": {},
   "outputs": [
    {
     "name": "stdout",
     "output_type": "stream",
     "text": [
      "Model: \"sequential\"\n",
      "_________________________________________________________________\n",
      " Layer (type)                Output Shape              Param #   \n",
      "=================================================================\n",
      " embedding (Embedding)       (None, 500, 32)           160000    \n",
      "                                                                 \n",
      " lstm (LSTM)                 (None, 100)               53200     \n",
      "                                                                 \n",
      " dense (Dense)               (None, 1)                 101       \n",
      "                                                                 \n",
      "=================================================================\n",
      "Total params: 213,301\n",
      "Trainable params: 213,301\n",
      "Non-trainable params: 0\n",
      "_________________________________________________________________\n",
      "None\n",
      "Epoch 1/3\n",
      "391/391 [==============================] - 637s 2s/step - loss: 0.4245 - accuracy: 0.8051 - val_loss: 0.3089 - val_accuracy: 0.8724\n",
      "Epoch 2/3\n",
      "391/391 [==============================] - 533s 1s/step - loss: 0.2937 - accuracy: 0.8802 - val_loss: 0.3663 - val_accuracy: 0.8666\n",
      "Epoch 3/3\n",
      "391/391 [==============================] - 644s 2s/step - loss: 0.3100 - accuracy: 0.8786 - val_loss: 0.3264 - val_accuracy: 0.8714\n"
     ]
    },
    {
     "data": {
      "text/plain": [
       "<keras.callbacks.History at 0x274b9b98970>"
      ]
     },
     "execution_count": 4,
     "metadata": {},
     "output_type": "execute_result"
    }
   ],
   "source": [
    "\n",
    "# create the model\n",
    "embedding_vecor_length = 32\n",
    "model = Sequential()\n",
    "model.add(Embedding(top_words, embedding_vecor_length, input_length=max_review_length))\n",
    "model.add(LSTM(100))\n",
    "model.add(Dense(1, activation='sigmoid'))\n",
    "model.compile(loss='binary_crossentropy', optimizer='adam', metrics=['accuracy'])\n",
    "print(model.summary())\n",
    "model.fit(X_train, y_train, validation_data=(X_test, y_test), epochs=3, batch_size=64)"
   ]
  },
  {
   "cell_type": "markdown",
   "id": "fe1b9138",
   "metadata": {},
   "source": [
    "## Print the results"
   ]
  },
  {
   "cell_type": "code",
   "execution_count": 5,
   "id": "049e5f7a",
   "metadata": {},
   "outputs": [
    {
     "name": "stdout",
     "output_type": "stream",
     "text": [
      "Accuracy: 87.14%\n"
     ]
    }
   ],
   "source": [
    "\n",
    "# Final evaluation of the model\n",
    "scores = model.evaluate(X_test, y_test, verbose=0)\n",
    "print(\"Accuracy: %.2f%%\" % (scores[1]*100))"
   ]
  },
  {
   "cell_type": "code",
   "execution_count": null,
   "id": "57ff1101",
   "metadata": {},
   "outputs": [],
   "source": []
  }
 ],
 "metadata": {
  "kernelspec": {
   "display_name": "Python 3 (ipykernel)",
   "language": "python",
   "name": "python3"
  },
  "language_info": {
   "codemirror_mode": {
    "name": "ipython",
    "version": 3
   },
   "file_extension": ".py",
   "mimetype": "text/x-python",
   "name": "python",
   "nbconvert_exporter": "python",
   "pygments_lexer": "ipython3",
   "version": "3.9.17"
  }
 },
 "nbformat": 4,
 "nbformat_minor": 5
}
