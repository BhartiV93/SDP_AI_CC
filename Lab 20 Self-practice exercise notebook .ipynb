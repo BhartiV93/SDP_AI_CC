{
 "cells": [
  {
   "cell_type": "markdown",
   "id": "9b9f7a61",
   "metadata": {},
   "source": [
    "## EDUNET FOUNDATION - Self-Practice Exercise Notebook"
   ]
  },
  {
   "cell_type": "markdown",
   "id": "466924f6",
   "metadata": {},
   "source": [
    "### LAB 20 - Implementing Random forest Concepts in Python"
   ]
  },
  {
   "cell_type": "markdown",
   "id": "dbeecdbd",
   "metadata": {},
   "source": [
    "Problem 1:"
   ]
  },
  {
   "cell_type": "markdown",
   "id": "725d6bb3",
   "metadata": {},
   "source": [
    "Bob has started his own mobile company. He wants to give tough fight to big companies like Apple,Samsung etc.\n",
    "\n",
    "He does not know how to estimate price of mobiles his company creates. In this competitive mobile phone market you cannot simply assume things. To solve this problem he collects sales data of mobile phones of various companies.\n",
    "\n",
    "Bob wants to find out some relation between features of a mobile phone(eg:- RAM,Internal Memory etc) and its selling price. But he is not so good at Machine Learning. So he needs your help to solve this problem."
   ]
  },
  {
   "cell_type": "markdown",
   "id": "f43e7c5e",
   "metadata": {},
   "source": [
    "Link for dataset\n",
    "https://drive.google.com/file/d/1K-15fTM-MZdBrg9sa1ODy8nBH9pk8ZUH/view?usp=drive_link\n",
    "https://drive.google.com/file/d/1DnzEH6Ud4BI1YGA-Z8IrJ1bjgjNdqLUG/view?usp=drive_link"
   ]
  },
  {
   "cell_type": "code",
   "execution_count": null,
   "id": "432f2a83",
   "metadata": {},
   "outputs": [],
   "source": []
  }
 ],
 "metadata": {
  "kernelspec": {
   "display_name": "Python 3 (ipykernel)",
   "language": "python",
   "name": "python3"
  },
  "language_info": {
   "codemirror_mode": {
    "name": "ipython",
    "version": 3
   },
   "file_extension": ".py",
   "mimetype": "text/x-python",
   "name": "python",
   "nbconvert_exporter": "python",
   "pygments_lexer": "ipython3",
   "version": "3.11.3"
  }
 },
 "nbformat": 4,
 "nbformat_minor": 5
}
