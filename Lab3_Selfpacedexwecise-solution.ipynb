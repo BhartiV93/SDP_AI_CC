{
 "cells": [
  {
   "cell_type": "markdown",
   "id": "0501da20",
   "metadata": {},
   "source": [
    "# EDUNET FOUNDATION - Self-Practice Exercise Notebook Solutions\n",
    "# LAB 3 - Python Basics"
   ]
  },
  {
   "cell_type": "markdown",
   "id": "145c3657",
   "metadata": {},
   "source": [
    "Problem 1: WRITE A SAMPLE PYTHON PROGRAM TO ADD TWO NUMBERS"
   ]
  },
  {
   "cell_type": "code",
   "execution_count": 1,
   "id": "5e3714b2",
   "metadata": {},
   "outputs": [
    {
     "name": "stdout",
     "output_type": "stream",
     "text": [
      "The sum of 1.5 and 6.3 is 7.8\n"
     ]
    }
   ],
   "source": [
    "# This program adds two numbers\n",
    "\n",
    "num1 = 1.5\n",
    "num2 = 6.3\n",
    "\n",
    "# Add two numbers\n",
    "sum = num1 + num2\n",
    "\n",
    "# Display the sum\n",
    "print('The sum of {0} and {1} is {2}'.format(num1, num2, sum))"
   ]
  },
  {
   "cell_type": "markdown",
   "id": "d14ff70f",
   "metadata": {},
   "source": [
    "Problem 2: WRITE A SAMPLE PYTHON PROGRAM Convert Kilometers to Miles\n"
   ]
  },
  {
   "cell_type": "code",
   "execution_count": 2,
   "id": "67d2d121",
   "metadata": {},
   "outputs": [
    {
     "name": "stdout",
     "output_type": "stream",
     "text": [
      "Enter value in kilometers: 12\n",
      "12.00 kilometers is equal to 7.46 miles\n"
     ]
    }
   ],
   "source": [
    "# Taking kilometers input from the user\n",
    "kilometers = float(input(\"Enter value in kilometers: \"))\n",
    "\n",
    "# conversion factor\n",
    "conv_fac = 0.621371\n",
    "\n",
    "# calculate miles\n",
    "miles = kilometers * conv_fac\n",
    "print('%0.2f kilometers is equal to %0.2f miles' %(kilometers,miles))"
   ]
  },
  {
   "cell_type": "markdown",
   "id": "2752aa4a",
   "metadata": {},
   "source": [
    "pROBLEM 3: WRITE A Python Program to Find the Square Root"
   ]
  },
  {
   "cell_type": "code",
   "execution_count": 3,
   "id": "8e3ade0c",
   "metadata": {},
   "outputs": [
    {
     "name": "stdout",
     "output_type": "stream",
     "text": [
      "The square root of 8.000 is 2.828\n"
     ]
    }
   ],
   "source": [
    "# Python Program to calculate the square root\n",
    "\n",
    "# Note: change this value for a different result\n",
    "num = 8 \n",
    "\n",
    "# To take the input from the user\n",
    "#num = float(input('Enter a number: '))\n",
    "\n",
    "num_sqrt = num ** 0.5\n",
    "print('The square root of %0.3f is %0.3f'%(num ,num_sqrt))"
   ]
  },
  {
   "cell_type": "code",
   "execution_count": null,
   "id": "076f5bb7",
   "metadata": {},
   "outputs": [],
   "source": []
  }
 ],
 "metadata": {
  "kernelspec": {
   "display_name": "Python 3 (ipykernel)",
   "language": "python",
   "name": "python3"
  },
  "language_info": {
   "codemirror_mode": {
    "name": "ipython",
    "version": 3
   },
   "file_extension": ".py",
   "mimetype": "text/x-python",
   "name": "python",
   "nbconvert_exporter": "python",
   "pygments_lexer": "ipython3",
   "version": "3.9.13"
  }
 },
 "nbformat": 4,
 "nbformat_minor": 5
}
