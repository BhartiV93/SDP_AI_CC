{
 "cells": [
  {
   "cell_type": "markdown",
   "id": "021b0b32",
   "metadata": {},
   "source": [
    "#  EDUNET FOUNDATION-Class Exercise Notebook\n",
    "\n",
    "# Lab 31 Implement Hypertuning Techniques"
   ]
  },
  {
   "cell_type": "markdown",
   "id": "f89707e3",
   "metadata": {},
   "source": [
    "Hypertuning techniques focus on identifying optimal values for Hyperparameters"
   ]
  },
  {
   "cell_type": "markdown",
   "id": "335d7ee3",
   "metadata": {},
   "source": [
    "Identifying hyperparameters which may affect model performance"
   ]
  },
  {
   "cell_type": "markdown",
   "id": "0f78caa8",
   "metadata": {},
   "source": [
    "Generally, hyperparameters in a deep neural network are: \n",
    "- Number of iterations \n",
    "- Number of layers in the neural network \n",
    "- Number of hidden units in each layer \n",
    "- Learning rate α \n",
    "- Step size \n",
    "- Choice of the activation function \n",
    "- Losss function \n",
    "- Mini-batch Size \n",
    "- Momentum \n",
    "- Regularization \n",
    "- Drop out rate \n",
    "- Weight Decay"
   ]
  },
  {
   "cell_type": "markdown",
   "id": "5451925c",
   "metadata": {},
   "source": [
    "For the practice, first we need an AI model to hypertune.\n",
    "\n",
    "So, let's develop a DL model. Dataset, used here, can be downloaded from this link: https://www.kaggle.com/datasets/karakaggle/kaggle-cat-vs-dog-dataset"
   ]
  },
  {
   "cell_type": "code",
   "execution_count": 1,
   "id": "188a9fed",
   "metadata": {},
   "outputs": [],
   "source": [
    "# Importing the Keras libraries and packages\n",
    "from keras.models import Sequential\n",
    "from keras.layers import Convolution2D\n",
    "from keras.layers import MaxPooling2D\n",
    "from keras.layers import Flatten\n",
    "from keras.layers import Dense"
   ]
  },
  {
   "cell_type": "code",
   "execution_count": 2,
   "id": "f1cd88dc",
   "metadata": {},
   "outputs": [],
   "source": [
    "#Initialising the CNN\n",
    "classifier = Sequential()\n",
    "\n",
    "# Step 1 - Convolution\n",
    "classifier.add(Convolution2D(32, 3, 3, input_shape = (64,64, 3), activation = 'relu'))\n",
    "\n",
    "# Step 2 - Pooling\n",
    "classifier.add(MaxPooling2D(pool_size = (2, 2)))\n",
    "\n",
    "# Adding a second convolutional layer\n",
    "classifier.add(Convolution2D(32, 3, 3, activation = 'relu'))\n",
    "classifier.add(MaxPooling2D(pool_size = (2, 2)))\n",
    "\n",
    "# Step 3 - Flattening\n",
    "classifier.add(Flatten())\n",
    "\n",
    "# Step 4 - Full connection\n",
    "classifier.add(Dense(128, activation = 'relu'))\n",
    "classifier.add(Dense(1, activation = 'sigmoid'))\n",
    "\n",
    "# Compiling the CNN\n",
    "classifier.compile(optimizer = 'adam', loss = 'binary_crossentropy', metrics = ['accuracy'])"
   ]
  },
  {
   "cell_type": "code",
   "execution_count": 4,
   "id": "af6006fa",
   "metadata": {},
   "outputs": [
    {
     "name": "stdout",
     "output_type": "stream",
     "text": [
      "Found 165 images belonging to 2 classes.\n",
      "Found 30 images belonging to 2 classes.\n"
     ]
    }
   ],
   "source": [
    "from keras.preprocessing.image import ImageDataGenerator\n",
    "\n",
    "# Data Augmentation\n",
    "\n",
    "train_datagen = ImageDataGenerator(rescale = 1./255,\n",
    "                                   shear_range = 0.2,\n",
    "                                   zoom_range = 0.2,\n",
    "                                   horizontal_flip = True)\n",
    "\n",
    "test_datagen = ImageDataGenerator(rescale = 1./255)\n",
    "\n",
    "training_set = train_datagen.flow_from_directory('data/train',\n",
    "                                                 target_size = (64,64),\n",
    "                                                 batch_size = 32,\n",
    "                                                 class_mode = 'binary')\n",
    "\n",
    "test_set = test_datagen.flow_from_directory('data/test',\n",
    "                                            target_size = (64,64),\n",
    "                                            batch_size = 32,\n",
    "                                            class_mode = 'binary')"
   ]
  },
  {
   "cell_type": "code",
   "execution_count": 5,
   "id": "82678bde",
   "metadata": {},
   "outputs": [
    {
     "name": "stdout",
     "output_type": "stream",
     "text": [
      "Epoch 1/10\n",
      "6/6 [==============================] - 8s 946ms/step - loss: 0.6948 - accuracy: 0.5152 - val_loss: 0.6974 - val_accuracy: 0.5000\n",
      "Epoch 2/10\n",
      "6/6 [==============================] - 2s 363ms/step - loss: 0.6912 - accuracy: 0.5152 - val_loss: 0.6938 - val_accuracy: 0.5000\n",
      "Epoch 3/10\n",
      "6/6 [==============================] - 3s 376ms/step - loss: 0.6918 - accuracy: 0.5394 - val_loss: 0.6947 - val_accuracy: 0.5000\n",
      "Epoch 4/10\n",
      "6/6 [==============================] - 2s 393ms/step - loss: 0.6907 - accuracy: 0.5030 - val_loss: 0.6940 - val_accuracy: 0.5000\n",
      "Epoch 5/10\n",
      "6/6 [==============================] - 2s 355ms/step - loss: 0.6904 - accuracy: 0.5212 - val_loss: 0.6941 - val_accuracy: 0.5000\n",
      "Epoch 6/10\n",
      "6/6 [==============================] - 3s 502ms/step - loss: 0.6885 - accuracy: 0.5455 - val_loss: 0.7010 - val_accuracy: 0.5000\n",
      "Epoch 7/10\n",
      "6/6 [==============================] - 2s 406ms/step - loss: 0.6923 - accuracy: 0.5152 - val_loss: 0.7020 - val_accuracy: 0.5000\n",
      "Epoch 8/10\n",
      "6/6 [==============================] - 2s 311ms/step - loss: 0.6915 - accuracy: 0.5212 - val_loss: 0.6942 - val_accuracy: 0.5000\n",
      "Epoch 9/10\n",
      "6/6 [==============================] - 2s 290ms/step - loss: 0.6861 - accuracy: 0.6061 - val_loss: 0.6912 - val_accuracy: 0.5333\n",
      "Epoch 10/10\n",
      "6/6 [==============================] - 3s 526ms/step - loss: 0.6869 - accuracy: 0.5758 - val_loss: 0.6917 - val_accuracy: 0.5000\n"
     ]
    },
    {
     "data": {
      "text/plain": [
       "<keras.callbacks.History at 0x2887b5a5970>"
      ]
     },
     "execution_count": 5,
     "metadata": {},
     "output_type": "execute_result"
    }
   ],
   "source": [
    "classifier.fit(training_set,# the training set\n",
    "                         epochs = 10,# number of epochs \n",
    "                         validation_data = test_set# the test set\n",
    "                         )"
   ]
  },
  {
   "cell_type": "markdown",
   "id": "b8415455",
   "metadata": {},
   "source": [
    "Final validation accuracy is 0.5"
   ]
  },
  {
   "cell_type": "markdown",
   "id": "9117bb5f",
   "metadata": {},
   "source": [
    "In the above implemtation, we will change some of the hyperparameters to find best suited set of Hyperparameters "
   ]
  },
  {
   "cell_type": "markdown",
   "id": "c021b22c",
   "metadata": {},
   "source": [
    "Variation 1: Changing the number of epochs"
   ]
  },
  {
   "cell_type": "code",
   "execution_count": 6,
   "id": "c923d432",
   "metadata": {},
   "outputs": [
    {
     "name": "stdout",
     "output_type": "stream",
     "text": [
      "Epoch 1/50\n",
      "6/6 [==============================] - 2s 398ms/step - loss: 0.6832 - accuracy: 0.6000 - val_loss: 0.6925 - val_accuracy: 0.6000\n",
      "Epoch 2/50\n",
      "6/6 [==============================] - 2s 318ms/step - loss: 0.6763 - accuracy: 0.6424 - val_loss: 0.6919 - val_accuracy: 0.6333\n",
      "Epoch 3/50\n",
      "6/6 [==============================] - 2s 428ms/step - loss: 0.6688 - accuracy: 0.6303 - val_loss: 0.6938 - val_accuracy: 0.6333\n",
      "Epoch 4/50\n",
      "6/6 [==============================] - 2s 404ms/step - loss: 0.6641 - accuracy: 0.6545 - val_loss: 0.6962 - val_accuracy: 0.5667\n",
      "Epoch 5/50\n",
      "6/6 [==============================] - 2s 330ms/step - loss: 0.6505 - accuracy: 0.6424 - val_loss: 0.7045 - val_accuracy: 0.5667\n",
      "Epoch 6/50\n",
      "6/6 [==============================] - 2s 283ms/step - loss: 0.6581 - accuracy: 0.5939 - val_loss: 0.7131 - val_accuracy: 0.4333\n",
      "Epoch 7/50\n",
      "6/6 [==============================] - 3s 457ms/step - loss: 0.6567 - accuracy: 0.5576 - val_loss: 0.7180 - val_accuracy: 0.5000\n",
      "Epoch 8/50\n",
      "6/6 [==============================] - 3s 509ms/step - loss: 0.6350 - accuracy: 0.6303 - val_loss: 0.7210 - val_accuracy: 0.4333\n",
      "Epoch 9/50\n",
      "6/6 [==============================] - 2s 355ms/step - loss: 0.6300 - accuracy: 0.6242 - val_loss: 0.7443 - val_accuracy: 0.5667\n",
      "Epoch 10/50\n",
      "6/6 [==============================] - 2s 389ms/step - loss: 0.6409 - accuracy: 0.5818 - val_loss: 0.7315 - val_accuracy: 0.4667\n",
      "Epoch 11/50\n",
      "6/6 [==============================] - 3s 388ms/step - loss: 0.6369 - accuracy: 0.6364 - val_loss: 0.7597 - val_accuracy: 0.5667\n",
      "Epoch 12/50\n",
      "6/6 [==============================] - 2s 363ms/step - loss: 0.6159 - accuracy: 0.6727 - val_loss: 0.7274 - val_accuracy: 0.4667\n",
      "Epoch 13/50\n",
      "6/6 [==============================] - 2s 345ms/step - loss: 0.6122 - accuracy: 0.6424 - val_loss: 0.7435 - val_accuracy: 0.5333\n",
      "Epoch 14/50\n",
      "6/6 [==============================] - 3s 499ms/step - loss: 0.6369 - accuracy: 0.6303 - val_loss: 0.7650 - val_accuracy: 0.6000\n",
      "Epoch 15/50\n",
      "6/6 [==============================] - 4s 768ms/step - loss: 0.6007 - accuracy: 0.6606 - val_loss: 0.7981 - val_accuracy: 0.5333\n",
      "Epoch 16/50\n",
      "6/6 [==============================] - 3s 422ms/step - loss: 0.6227 - accuracy: 0.6485 - val_loss: 0.8503 - val_accuracy: 0.5000\n",
      "Epoch 17/50\n",
      "6/6 [==============================] - 3s 561ms/step - loss: 0.6366 - accuracy: 0.5879 - val_loss: 0.7556 - val_accuracy: 0.4667\n",
      "Epoch 18/50\n",
      "6/6 [==============================] - 2s 400ms/step - loss: 0.6025 - accuracy: 0.6485 - val_loss: 0.8085 - val_accuracy: 0.5333\n",
      "Epoch 19/50\n",
      "6/6 [==============================] - 2s 422ms/step - loss: 0.6104 - accuracy: 0.6727 - val_loss: 0.7590 - val_accuracy: 0.5000\n",
      "Epoch 20/50\n",
      "6/6 [==============================] - 3s 423ms/step - loss: 0.5955 - accuracy: 0.6848 - val_loss: 0.7935 - val_accuracy: 0.5667\n",
      "Epoch 21/50\n",
      "6/6 [==============================] - 2s 391ms/step - loss: 0.6057 - accuracy: 0.6485 - val_loss: 0.7826 - val_accuracy: 0.5333\n",
      "Epoch 22/50\n",
      "6/6 [==============================] - 2s 337ms/step - loss: 0.5796 - accuracy: 0.6727 - val_loss: 0.8140 - val_accuracy: 0.5667\n",
      "Epoch 23/50\n",
      "6/6 [==============================] - 3s 551ms/step - loss: 0.5883 - accuracy: 0.6727 - val_loss: 0.7661 - val_accuracy: 0.5333\n",
      "Epoch 24/50\n",
      "6/6 [==============================] - 2s 299ms/step - loss: 0.5818 - accuracy: 0.6667 - val_loss: 0.8201 - val_accuracy: 0.5333\n",
      "Epoch 25/50\n",
      "6/6 [==============================] - 2s 367ms/step - loss: 0.6052 - accuracy: 0.6606 - val_loss: 0.7882 - val_accuracy: 0.5667\n",
      "Epoch 26/50\n",
      "6/6 [==============================] - 2s 430ms/step - loss: 0.5787 - accuracy: 0.7091 - val_loss: 0.7700 - val_accuracy: 0.5667\n",
      "Epoch 27/50\n",
      "6/6 [==============================] - 3s 574ms/step - loss: 0.5822 - accuracy: 0.7030 - val_loss: 0.7789 - val_accuracy: 0.6000\n",
      "Epoch 28/50\n",
      "6/6 [==============================] - 2s 297ms/step - loss: 0.5616 - accuracy: 0.7394 - val_loss: 0.7685 - val_accuracy: 0.6000\n",
      "Epoch 29/50\n",
      "6/6 [==============================] - 2s 401ms/step - loss: 0.5650 - accuracy: 0.7152 - val_loss: 0.7815 - val_accuracy: 0.6000\n",
      "Epoch 30/50\n",
      "6/6 [==============================] - 3s 448ms/step - loss: 0.5609 - accuracy: 0.7152 - val_loss: 0.7737 - val_accuracy: 0.5667\n",
      "Epoch 31/50\n",
      "6/6 [==============================] - 2s 368ms/step - loss: 0.5360 - accuracy: 0.7091 - val_loss: 0.7769 - val_accuracy: 0.5667\n",
      "Epoch 32/50\n",
      "6/6 [==============================] - 2s 366ms/step - loss: 0.5723 - accuracy: 0.6788 - val_loss: 0.8018 - val_accuracy: 0.5667\n",
      "Epoch 33/50\n",
      "6/6 [==============================] - 2s 391ms/step - loss: 0.5500 - accuracy: 0.7152 - val_loss: 0.7845 - val_accuracy: 0.6000\n",
      "Epoch 34/50\n",
      "6/6 [==============================] - 3s 490ms/step - loss: 0.5716 - accuracy: 0.6606 - val_loss: 0.8271 - val_accuracy: 0.6000\n",
      "Epoch 35/50\n",
      "6/6 [==============================] - 2s 367ms/step - loss: 0.5772 - accuracy: 0.6848 - val_loss: 0.8214 - val_accuracy: 0.6000\n",
      "Epoch 36/50\n",
      "6/6 [==============================] - 2s 355ms/step - loss: 0.5602 - accuracy: 0.7273 - val_loss: 0.7751 - val_accuracy: 0.6000\n",
      "Epoch 37/50\n",
      "6/6 [==============================] - 3s 488ms/step - loss: 0.5751 - accuracy: 0.6727 - val_loss: 0.7732 - val_accuracy: 0.6333\n",
      "Epoch 38/50\n",
      "6/6 [==============================] - 2s 328ms/step - loss: 0.5794 - accuracy: 0.6788 - val_loss: 0.9126 - val_accuracy: 0.5667\n",
      "Epoch 39/50\n",
      "6/6 [==============================] - 2s 313ms/step - loss: 0.5934 - accuracy: 0.6788 - val_loss: 0.7866 - val_accuracy: 0.5333\n",
      "Epoch 40/50\n",
      "6/6 [==============================] - 3s 501ms/step - loss: 0.5437 - accuracy: 0.7273 - val_loss: 0.9257 - val_accuracy: 0.6000\n",
      "Epoch 41/50\n",
      "6/6 [==============================] - 2s 361ms/step - loss: 0.5341 - accuracy: 0.7333 - val_loss: 0.7540 - val_accuracy: 0.6333\n",
      "Epoch 42/50\n",
      "6/6 [==============================] - 2s 310ms/step - loss: 0.5375 - accuracy: 0.7152 - val_loss: 0.7721 - val_accuracy: 0.6000\n",
      "Epoch 43/50\n",
      "6/6 [==============================] - 2s 314ms/step - loss: 0.5273 - accuracy: 0.7273 - val_loss: 0.7735 - val_accuracy: 0.6667\n",
      "Epoch 44/50\n",
      "6/6 [==============================] - 3s 452ms/step - loss: 0.5169 - accuracy: 0.7515 - val_loss: 0.8000 - val_accuracy: 0.6333\n",
      "Epoch 45/50\n",
      "6/6 [==============================] - 2s 342ms/step - loss: 0.5158 - accuracy: 0.7212 - val_loss: 0.8491 - val_accuracy: 0.6333\n",
      "Epoch 46/50\n",
      "6/6 [==============================] - 2s 330ms/step - loss: 0.5411 - accuracy: 0.7152 - val_loss: 0.7901 - val_accuracy: 0.6000\n",
      "Epoch 47/50\n",
      "6/6 [==============================] - 2s 439ms/step - loss: 0.5655 - accuracy: 0.6970 - val_loss: 0.9667 - val_accuracy: 0.5667\n",
      "Epoch 48/50\n",
      "6/6 [==============================] - 2s 464ms/step - loss: 0.6522 - accuracy: 0.6061 - val_loss: 0.7850 - val_accuracy: 0.6333\n",
      "Epoch 49/50\n",
      "6/6 [==============================] - 2s 344ms/step - loss: 0.5333 - accuracy: 0.7091 - val_loss: 0.7873 - val_accuracy: 0.6333\n",
      "Epoch 50/50\n",
      "6/6 [==============================] - 2s 301ms/step - loss: 0.5296 - accuracy: 0.7455 - val_loss: 0.8896 - val_accuracy: 0.6333\n"
     ]
    },
    {
     "data": {
      "text/plain": [
       "<keras.callbacks.History at 0x2887b451e20>"
      ]
     },
     "execution_count": 6,
     "metadata": {},
     "output_type": "execute_result"
    }
   ],
   "source": [
    "classifier.fit(training_set,# the training set\n",
    "                         epochs = 50,# number of epochs \n",
    "                         validation_data = test_set# the test set\n",
    "                         )"
   ]
  },
  {
   "cell_type": "markdown",
   "id": "3cb72bf3",
   "metadata": {},
   "source": [
    "Final validation accuracy is now increased to 0.6333"
   ]
  },
  {
   "cell_type": "markdown",
   "id": "256d4283",
   "metadata": {},
   "source": [
    "Variation 2: Changing the number of units in the model architecture but keeping the epoch same as 10"
   ]
  },
  {
   "cell_type": "code",
   "execution_count": 8,
   "id": "801b76ac",
   "metadata": {},
   "outputs": [],
   "source": [
    "#Initialising the CNN\n",
    "classifier2 = Sequential()\n",
    "\n",
    "# Step 1 - Convolution\n",
    "classifier2.add(Convolution2D(64, 3, 3, input_shape = (64,64, 3), activation = 'relu'))\n",
    "\n",
    "# Step 2 - Pooling\n",
    "classifier2.add(MaxPooling2D(pool_size = (2, 2)))\n",
    "\n",
    "# Adding a second convolutional layer\n",
    "classifier2.add(Convolution2D(64, 3, 3, activation = 'relu'))\n",
    "classifier2.add(MaxPooling2D(pool_size = (2, 2)))\n",
    "\n",
    "# Step 3 - Flattening\n",
    "classifier2.add(Flatten())\n",
    "\n",
    "# Step 4 - Full connection\n",
    "classifier2.add(Dense(256, activation = 'relu'))\n",
    "classifier2.add(Dense(1, activation = 'sigmoid'))\n",
    "\n",
    "# Compiling the CNN\n",
    "classifier2.compile(optimizer = 'adam', loss = 'binary_crossentropy', metrics = ['accuracy'])"
   ]
  },
  {
   "cell_type": "code",
   "execution_count": 10,
   "id": "49232c1c",
   "metadata": {},
   "outputs": [
    {
     "name": "stdout",
     "output_type": "stream",
     "text": [
      "Epoch 1/10\n",
      "6/6 [==============================] - 22s 2s/step - loss: 0.6960 - accuracy: 0.4606 - val_loss: 0.6970 - val_accuracy: 0.5000\n",
      "Epoch 2/10\n",
      "6/6 [==============================] - 10s 2s/step - loss: 0.6944 - accuracy: 0.4909 - val_loss: 0.6943 - val_accuracy: 0.5000\n",
      "Epoch 3/10\n",
      "6/6 [==============================] - 10s 2s/step - loss: 0.6889 - accuracy: 0.5333 - val_loss: 0.6994 - val_accuracy: 0.5000\n",
      "Epoch 4/10\n",
      "6/6 [==============================] - 11s 2s/step - loss: 0.6889 - accuracy: 0.5758 - val_loss: 0.6924 - val_accuracy: 0.5667\n",
      "Epoch 5/10\n",
      "6/6 [==============================] - 10s 2s/step - loss: 0.6885 - accuracy: 0.5939 - val_loss: 0.6923 - val_accuracy: 0.5667\n",
      "Epoch 6/10\n",
      "6/6 [==============================] - 10s 2s/step - loss: 0.6895 - accuracy: 0.5152 - val_loss: 0.6977 - val_accuracy: 0.5000\n",
      "Epoch 7/10\n",
      "6/6 [==============================] - 8s 1s/step - loss: 0.6990 - accuracy: 0.4848 - val_loss: 0.6961 - val_accuracy: 0.5000\n",
      "Epoch 8/10\n",
      "6/6 [==============================] - 9s 1s/step - loss: 0.6778 - accuracy: 0.5879 - val_loss: 0.7047 - val_accuracy: 0.3667\n",
      "Epoch 9/10\n",
      "6/6 [==============================] - 2s 268ms/step - loss: 0.6847 - accuracy: 0.5333 - val_loss: 0.7111 - val_accuracy: 0.4333\n",
      "Epoch 10/10\n",
      "6/6 [==============================] - 2s 277ms/step - loss: 0.6769 - accuracy: 0.6121 - val_loss: 0.7036 - val_accuracy: 0.5000\n"
     ]
    },
    {
     "data": {
      "text/plain": [
       "<keras.callbacks.History at 0x28800019ac0>"
      ]
     },
     "execution_count": 10,
     "metadata": {},
     "output_type": "execute_result"
    }
   ],
   "source": [
    "classifier2.fit(training_set,# the training set\n",
    "                         epochs = 10,# number of epochs \n",
    "                         validation_data = test_set# the test set\n",
    "                         )"
   ]
  },
  {
   "cell_type": "markdown",
   "id": "cb7e47ec",
   "metadata": {},
   "source": [
    "Final validation accuracy remained unaffected."
   ]
  },
  {
   "cell_type": "markdown",
   "id": "eb34f47e",
   "metadata": {},
   "source": [
    "Variation 3: Changing optimizer "
   ]
  },
  {
   "cell_type": "code",
   "execution_count": 11,
   "id": "d3b63f13",
   "metadata": {},
   "outputs": [],
   "source": [
    "#Initialising the CNN\n",
    "classifier3 = Sequential()\n",
    "\n",
    "# Step 1 - Convolution\n",
    "classifier3.add(Convolution2D(64, 3, 3, input_shape = (64,64, 3), activation = 'relu'))\n",
    "\n",
    "# Step 2 - Pooling\n",
    "classifier3.add(MaxPooling2D(pool_size = (2, 2)))\n",
    "\n",
    "# Adding a second convolutional layer\n",
    "classifier3.add(Convolution2D(64, 3, 3, activation = 'relu'))\n",
    "classifier3.add(MaxPooling2D(pool_size = (2, 2)))\n",
    "\n",
    "# Step 3 - Flattening\n",
    "classifier3.add(Flatten())\n",
    "\n",
    "# Step 4 - Full connection\n",
    "classifier3.add(Dense(256, activation = 'relu'))\n",
    "classifier3.add(Dense(1, activation = 'sigmoid'))\n",
    "\n",
    "# Compiling the CNN\n",
    "classifier3.compile(optimizer = 'SGD', loss = 'binary_crossentropy', metrics = ['accuracy'])"
   ]
  },
  {
   "cell_type": "code",
   "execution_count": 12,
   "id": "e1ac8d67",
   "metadata": {},
   "outputs": [
    {
     "name": "stdout",
     "output_type": "stream",
     "text": [
      "Epoch 1/10\n",
      "6/6 [==============================] - 2s 202ms/step - loss: 0.6935 - accuracy: 0.4848 - val_loss: 0.6913 - val_accuracy: 0.5000\n",
      "Epoch 2/10\n",
      "6/6 [==============================] - 1s 171ms/step - loss: 0.6932 - accuracy: 0.4848 - val_loss: 0.6914 - val_accuracy: 0.5000\n",
      "Epoch 3/10\n",
      "6/6 [==============================] - 1s 145ms/step - loss: 0.6928 - accuracy: 0.4909 - val_loss: 0.6912 - val_accuracy: 0.5000\n",
      "Epoch 4/10\n",
      "6/6 [==============================] - 1s 157ms/step - loss: 0.6933 - accuracy: 0.4788 - val_loss: 0.6913 - val_accuracy: 0.5000\n",
      "Epoch 5/10\n",
      "6/6 [==============================] - 1s 152ms/step - loss: 0.6938 - accuracy: 0.4909 - val_loss: 0.6911 - val_accuracy: 0.5000\n",
      "Epoch 6/10\n",
      "6/6 [==============================] - 1s 162ms/step - loss: 0.6943 - accuracy: 0.4727 - val_loss: 0.6915 - val_accuracy: 0.5000\n",
      "Epoch 7/10\n",
      "6/6 [==============================] - 1s 152ms/step - loss: 0.6931 - accuracy: 0.4970 - val_loss: 0.6916 - val_accuracy: 0.4667\n",
      "Epoch 8/10\n",
      "6/6 [==============================] - 1s 155ms/step - loss: 0.6931 - accuracy: 0.4848 - val_loss: 0.6919 - val_accuracy: 0.5667\n",
      "Epoch 9/10\n",
      "6/6 [==============================] - 1s 160ms/step - loss: 0.6923 - accuracy: 0.5030 - val_loss: 0.6925 - val_accuracy: 0.5000\n",
      "Epoch 10/10\n",
      "6/6 [==============================] - 1s 176ms/step - loss: 0.6927 - accuracy: 0.5152 - val_loss: 0.6923 - val_accuracy: 0.5333\n"
     ]
    },
    {
     "data": {
      "text/plain": [
       "<keras.callbacks.History at 0x2880041d250>"
      ]
     },
     "execution_count": 12,
     "metadata": {},
     "output_type": "execute_result"
    }
   ],
   "source": [
    "classifier3.fit(training_set,# the training set\n",
    "                         epochs = 10,# number of epochs \n",
    "                         validation_data = test_set# the test set\n",
    "                         )"
   ]
  },
  {
   "cell_type": "markdown",
   "id": "ec6326ab",
   "metadata": {},
   "source": [
    "Accuracy, slightly, improved to 0.533"
   ]
  },
  {
   "cell_type": "markdown",
   "id": "623aa675",
   "metadata": {},
   "source": [
    "In this way, you can hypertune your model.\n",
    "Remember, there is no definite set of hyperparameters which will work in every scenario."
   ]
  },
  {
   "cell_type": "code",
   "execution_count": null,
   "id": "07aaf5e0",
   "metadata": {},
   "outputs": [],
   "source": []
  }
 ],
 "metadata": {
  "kernelspec": {
   "display_name": "Python 3 (ipykernel)",
   "language": "python",
   "name": "python3"
  },
  "language_info": {
   "codemirror_mode": {
    "name": "ipython",
    "version": 3
   },
   "file_extension": ".py",
   "mimetype": "text/x-python",
   "name": "python",
   "nbconvert_exporter": "python",
   "pygments_lexer": "ipython3",
   "version": "3.9.13"
  }
 },
 "nbformat": 4,
 "nbformat_minor": 5
}
