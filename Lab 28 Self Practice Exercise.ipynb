{
 "cells": [
  {
   "cell_type": "markdown",
   "id": "eec4aee0",
   "metadata": {},
   "source": [
    "#  EDUNET FOUNDATION Self Practice Exercise Notebook\n",
    "\n",
    "# Lab 28 Implementing RNN Classifier "
   ]
  },
  {
   "cell_type": "markdown",
   "id": "74127fa7",
   "metadata": {},
   "source": [
    "Task 1:  Create an a deep learning model using RNN layer with 64 units"
   ]
  },
  {
   "cell_type": "code",
   "execution_count": null,
   "id": "a78a2965",
   "metadata": {},
   "outputs": [],
   "source": []
  },
  {
   "cell_type": "code",
   "execution_count": null,
   "id": "f5a43338",
   "metadata": {},
   "outputs": [],
   "source": []
  }
 ],
 "metadata": {
  "kernelspec": {
   "display_name": "Python 3 (ipykernel)",
   "language": "python",
   "name": "python3"
  },
  "language_info": {
   "codemirror_mode": {
    "name": "ipython",
    "version": 3
   },
   "file_extension": ".py",
   "mimetype": "text/x-python",
   "name": "python",
   "nbconvert_exporter": "python",
   "pygments_lexer": "ipython3",
   "version": "3.9.13"
  }
 },
 "nbformat": 4,
 "nbformat_minor": 5
}
