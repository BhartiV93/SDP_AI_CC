{
 "cells": [
  {
   "cell_type": "markdown",
   "id": "c4aa3d14",
   "metadata": {},
   "source": [
    "## EDUNET FOUNDATION - Self-Practice Exercise Notebook Solutions"
   ]
  },
  {
   "cell_type": "markdown",
   "id": "ff27bef8",
   "metadata": {},
   "source": [
    "### LAB 13 - Implementing EDA Concepts in Python"
   ]
  },
  {
   "cell_type": "markdown",
   "id": "bf025414",
   "metadata": {},
   "source": [
    "**Problem 1:** Build a pandas dataframe using a dataset"
   ]
  },
  {
   "cell_type": "code",
   "execution_count": 1,
   "id": "00e618a0",
   "metadata": {},
   "outputs": [],
   "source": [
    "# Import the NumPy library for numerical operations\n",
    "import numpy as np\n",
    "\n",
    "# Import the Pandas library for data manipulation and analysis\n",
    "import pandas as pd\n",
    "\n",
    "# Import the Pyplot library from Matplotlib for creating visualizations\n",
    "from matplotlib import pyplot as plt"
   ]
  },
  {
   "cell_type": "code",
   "execution_count": 2,
   "id": "e5bc892a",
   "metadata": {},
   "outputs": [],
   "source": [
    "# The dataset is defined as a list of dictionaries\n",
    "dataset = [\n",
    "    {\"date\": \"2023-05-01\", \"coffee_type\": 1, \"flavor\": 1, \"location\": 1},\n",
    "    {\"date\": \"2023-05-01\", \"coffee_type\": 2, \"flavor\": 1, \"location\": 2},\n",
    "    {\"date\": \"2023-05-01\", \"coffee_type\": 1, \"flavor\": 2, \"location\": 2},\n",
    "    {\"date\": \"2023-05-01\", \"coffee_type\": 3, \"flavor\": 1, \"location\": 1},\n",
    "    {\"date\": \"2023-05-01\", \"coffee_type\": 1, \"flavor\": 2, \"location\": 2},\n",
    "    {\"date\": \"2023-05-01\", \"coffee_type\": 1, \"flavor\": 2, \"location\": 2},\n",
    "    {\"date\": \"2023-05-01\", \"coffee_type\": 1, \"flavor\": 1, \"location\": 1},\n",
    "    {\"date\": \"2023-05-02\", \"coffee_type\": 1, \"flavor\": 1, \"location\": 1},\n",
    "    {\"date\": \"2023-05-02\", \"coffee_type\": 3, \"flavor\": 3, \"location\": 1},\n",
    "    {\"date\": \"2023-05-02\", \"coffee_type\": 3, \"flavor\": 3, \"location\": 2},\n",
    "    {\"date\": \"2023-05-02\", \"coffee_type\": 2, \"flavor\": 3, \"location\": 2},\n",
    "    {\"date\": \"2023-05-02\", \"coffee_type\": 2, \"flavor\": 3, \"location\": 2},\n",
    "    {\"date\": \"2023-05-02\", \"coffee_type\": 3, \"flavor\": 1, \"location\": 1},\n",
    "    {\"date\": \"2023-05-02\", \"coffee_type\": 1, \"flavor\": 2, \"location\": 2},\n",
    "    {\"date\": \"2023-05-03\", \"coffee_type\": 1, \"flavor\": 1, \"location\": 1},\n",
    "    {\"date\": \"2023-05-03\", \"coffee_type\": 2, \"flavor\": 2, \"location\": 1},\n",
    "    {\"date\": \"2023-05-03\", \"coffee_type\": 1, \"flavor\": 1, \"location\": 2},\n",
    "    {\"date\": \"2023-05-03\", \"coffee_type\": 3, \"flavor\": 3, \"location\": 2},\n",
    "    {\"date\": \"2023-05-03\", \"coffee_type\": 2, \"flavor\": 1, \"location\": 1},\n",
    "    {\"date\": \"2023-05-03\", \"coffee_type\": 1, \"flavor\": 1, \"location\": 1},\n",
    "    {\"date\": \"2023-05-03\", \"coffee_type\": 2, \"flavor\": 1, \"location\": 1},\n",
    "]"
   ]
  },
  {
   "cell_type": "code",
   "execution_count": 15,
   "id": "a8547082",
   "metadata": {},
   "outputs": [],
   "source": [
    "# Creates a DataFrame object named df\n",
    "df = pd.DataFrame(dataset)"
   ]
  },
  {
   "cell_type": "code",
   "execution_count": 13,
   "id": "e57e46e1",
   "metadata": {},
   "outputs": [],
   "source": [
    "# Read data from a CSV file and create a DataFrame\n",
    "#df = pd.read_csv(\"data.csv\")"
   ]
  },
  {
   "cell_type": "code",
   "execution_count": 16,
   "id": "f5348399",
   "metadata": {},
   "outputs": [
    {
     "name": "stdout",
     "output_type": "stream",
     "text": [
      "          date  coffee_type  flavor  location\n",
      "0   2023-05-01            1       1         1\n",
      "1   2023-05-01            2       1         2\n",
      "2   2023-05-01            1       2         2\n",
      "3   2023-05-01            3       1         1\n",
      "4   2023-05-01            1       2         2\n",
      "5   2023-05-01            1       2         2\n",
      "6   2023-05-01            1       1         1\n",
      "7   2023-05-02            1       1         1\n",
      "8   2023-05-02            3       3         1\n",
      "9   2023-05-02            3       3         2\n",
      "10  2023-05-02            2       3         2\n",
      "11  2023-05-02            2       3         2\n",
      "12  2023-05-02            3       1         1\n",
      "13  2023-05-02            1       2         2\n",
      "14  2023-05-03            1       1         1\n",
      "15  2023-05-03            2       2         1\n",
      "16  2023-05-03            1       1         2\n",
      "17  2023-05-03            3       3         2\n",
      "18  2023-05-03            2       1         1\n",
      "19  2023-05-03            1       1         1\n",
      "20  2023-05-03            2       1         1\n"
     ]
    }
   ],
   "source": [
    "print(df)"
   ]
  },
  {
   "cell_type": "markdown",
   "id": "468dcef0",
   "metadata": {},
   "source": [
    "**Problem 2:** Export the dataframe to a CSV file as a backup"
   ]
  },
  {
   "cell_type": "code",
   "execution_count": 17,
   "id": "197d090d",
   "metadata": {},
   "outputs": [],
   "source": [
    "# Save the DataFrame to a CSV file named 'backup.csv'\n",
    "df.to_csv('backup.csv', index=False)"
   ]
  },
  {
   "cell_type": "markdown",
   "id": "7478a09a",
   "metadata": {},
   "source": [
    "**Problem 3:** Display basic statistical metrics"
   ]
  },
  {
   "cell_type": "code",
   "execution_count": 18,
   "id": "fd71cce5",
   "metadata": {},
   "outputs": [
    {
     "data": {
      "text/html": [
       "<div>\n",
       "<style scoped>\n",
       "    .dataframe tbody tr th:only-of-type {\n",
       "        vertical-align: middle;\n",
       "    }\n",
       "\n",
       "    .dataframe tbody tr th {\n",
       "        vertical-align: top;\n",
       "    }\n",
       "\n",
       "    .dataframe thead th {\n",
       "        text-align: right;\n",
       "    }\n",
       "</style>\n",
       "<table border=\"1\" class=\"dataframe\">\n",
       "  <thead>\n",
       "    <tr style=\"text-align: right;\">\n",
       "      <th></th>\n",
       "      <th>date</th>\n",
       "      <th>coffee_type</th>\n",
       "      <th>flavor</th>\n",
       "      <th>location</th>\n",
       "    </tr>\n",
       "  </thead>\n",
       "  <tbody>\n",
       "    <tr>\n",
       "      <th>0</th>\n",
       "      <td>2023-05-01</td>\n",
       "      <td>1</td>\n",
       "      <td>1</td>\n",
       "      <td>1</td>\n",
       "    </tr>\n",
       "    <tr>\n",
       "      <th>1</th>\n",
       "      <td>2023-05-01</td>\n",
       "      <td>2</td>\n",
       "      <td>1</td>\n",
       "      <td>2</td>\n",
       "    </tr>\n",
       "    <tr>\n",
       "      <th>2</th>\n",
       "      <td>2023-05-01</td>\n",
       "      <td>1</td>\n",
       "      <td>2</td>\n",
       "      <td>2</td>\n",
       "    </tr>\n",
       "    <tr>\n",
       "      <th>3</th>\n",
       "      <td>2023-05-01</td>\n",
       "      <td>3</td>\n",
       "      <td>1</td>\n",
       "      <td>1</td>\n",
       "    </tr>\n",
       "    <tr>\n",
       "      <th>4</th>\n",
       "      <td>2023-05-01</td>\n",
       "      <td>1</td>\n",
       "      <td>2</td>\n",
       "      <td>2</td>\n",
       "    </tr>\n",
       "  </tbody>\n",
       "</table>\n",
       "</div>"
      ],
      "text/plain": [
       "         date  coffee_type  flavor  location\n",
       "0  2023-05-01            1       1         1\n",
       "1  2023-05-01            2       1         2\n",
       "2  2023-05-01            1       2         2\n",
       "3  2023-05-01            3       1         1\n",
       "4  2023-05-01            1       2         2"
      ]
     },
     "execution_count": 18,
     "metadata": {},
     "output_type": "execute_result"
    }
   ],
   "source": [
    "# Display the first five rows of the DataFrame\n",
    "df.head()"
   ]
  },
  {
   "cell_type": "code",
   "execution_count": 19,
   "id": "4224a085",
   "metadata": {},
   "outputs": [
    {
     "data": {
      "text/html": [
       "<div>\n",
       "<style scoped>\n",
       "    .dataframe tbody tr th:only-of-type {\n",
       "        vertical-align: middle;\n",
       "    }\n",
       "\n",
       "    .dataframe tbody tr th {\n",
       "        vertical-align: top;\n",
       "    }\n",
       "\n",
       "    .dataframe thead th {\n",
       "        text-align: right;\n",
       "    }\n",
       "</style>\n",
       "<table border=\"1\" class=\"dataframe\">\n",
       "  <thead>\n",
       "    <tr style=\"text-align: right;\">\n",
       "      <th></th>\n",
       "      <th>coffee_type</th>\n",
       "      <th>flavor</th>\n",
       "      <th>location</th>\n",
       "    </tr>\n",
       "  </thead>\n",
       "  <tbody>\n",
       "    <tr>\n",
       "      <th>count</th>\n",
       "      <td>21.000000</td>\n",
       "      <td>21.000000</td>\n",
       "      <td>21.000000</td>\n",
       "    </tr>\n",
       "    <tr>\n",
       "      <th>mean</th>\n",
       "      <td>1.761905</td>\n",
       "      <td>1.714286</td>\n",
       "      <td>1.476190</td>\n",
       "    </tr>\n",
       "    <tr>\n",
       "      <th>std</th>\n",
       "      <td>0.830949</td>\n",
       "      <td>0.845154</td>\n",
       "      <td>0.511766</td>\n",
       "    </tr>\n",
       "    <tr>\n",
       "      <th>min</th>\n",
       "      <td>1.000000</td>\n",
       "      <td>1.000000</td>\n",
       "      <td>1.000000</td>\n",
       "    </tr>\n",
       "    <tr>\n",
       "      <th>25%</th>\n",
       "      <td>1.000000</td>\n",
       "      <td>1.000000</td>\n",
       "      <td>1.000000</td>\n",
       "    </tr>\n",
       "    <tr>\n",
       "      <th>50%</th>\n",
       "      <td>2.000000</td>\n",
       "      <td>1.000000</td>\n",
       "      <td>1.000000</td>\n",
       "    </tr>\n",
       "    <tr>\n",
       "      <th>75%</th>\n",
       "      <td>2.000000</td>\n",
       "      <td>2.000000</td>\n",
       "      <td>2.000000</td>\n",
       "    </tr>\n",
       "    <tr>\n",
       "      <th>max</th>\n",
       "      <td>3.000000</td>\n",
       "      <td>3.000000</td>\n",
       "      <td>2.000000</td>\n",
       "    </tr>\n",
       "  </tbody>\n",
       "</table>\n",
       "</div>"
      ],
      "text/plain": [
       "       coffee_type     flavor   location\n",
       "count    21.000000  21.000000  21.000000\n",
       "mean      1.761905   1.714286   1.476190\n",
       "std       0.830949   0.845154   0.511766\n",
       "min       1.000000   1.000000   1.000000\n",
       "25%       1.000000   1.000000   1.000000\n",
       "50%       2.000000   1.000000   1.000000\n",
       "75%       2.000000   2.000000   2.000000\n",
       "max       3.000000   3.000000   2.000000"
      ]
     },
     "execution_count": 19,
     "metadata": {},
     "output_type": "execute_result"
    }
   ],
   "source": [
    "# Output basic statistical metrics\n",
    "# count, mean, std, min, max, and percentilfes\n",
    "df.describe()"
   ]
  },
  {
   "cell_type": "markdown",
   "id": "60457dab",
   "metadata": {},
   "source": [
    "**Problem 4:** Generate a correlation matrix to analyze the relationships between features"
   ]
  },
  {
   "cell_type": "code",
   "execution_count": 21,
   "id": "569f73e7",
   "metadata": {},
   "outputs": [
    {
     "data": {
      "text/html": [
       "<div>\n",
       "<style scoped>\n",
       "    .dataframe tbody tr th:only-of-type {\n",
       "        vertical-align: middle;\n",
       "    }\n",
       "\n",
       "    .dataframe tbody tr th {\n",
       "        vertical-align: top;\n",
       "    }\n",
       "\n",
       "    .dataframe thead th {\n",
       "        text-align: right;\n",
       "    }\n",
       "</style>\n",
       "<table border=\"1\" class=\"dataframe\">\n",
       "  <thead>\n",
       "    <tr style=\"text-align: right;\">\n",
       "      <th></th>\n",
       "      <th>coffee_type</th>\n",
       "      <th>flavor</th>\n",
       "      <th>location</th>\n",
       "    </tr>\n",
       "  </thead>\n",
       "  <tbody>\n",
       "    <tr>\n",
       "      <th>coffee_type</th>\n",
       "      <td>1.000000</td>\n",
       "      <td>0.396667</td>\n",
       "      <td>-0.072786</td>\n",
       "    </tr>\n",
       "    <tr>\n",
       "      <th>flavor</th>\n",
       "      <td>0.396667</td>\n",
       "      <td>1.000000</td>\n",
       "      <td>0.561492</td>\n",
       "    </tr>\n",
       "    <tr>\n",
       "      <th>location</th>\n",
       "      <td>-0.072786</td>\n",
       "      <td>0.561492</td>\n",
       "      <td>1.000000</td>\n",
       "    </tr>\n",
       "  </tbody>\n",
       "</table>\n",
       "</div>"
      ],
      "text/plain": [
       "             coffee_type    flavor  location\n",
       "coffee_type     1.000000  0.396667 -0.072786\n",
       "flavor          0.396667  1.000000  0.561492\n",
       "location       -0.072786  0.561492  1.000000"
      ]
     },
     "execution_count": 21,
     "metadata": {},
     "output_type": "execute_result"
    }
   ],
   "source": [
    "# Create the correlation matrix with 3 features\n",
    "\n",
    "# Drop the date column\n",
    "df = df.drop('date', axis=1)\n",
    "\n",
    "# Calculate the correlation matrix\n",
    "corr = df.corr()\n",
    "corr"
   ]
  },
  {
   "cell_type": "markdown",
   "id": "c3118042",
   "metadata": {},
   "source": [
    "**Problem 5:** Create a histogram plot to visualize the distribution of the data"
   ]
  },
  {
   "cell_type": "code",
   "execution_count": 22,
   "id": "4f96a064",
   "metadata": {},
   "outputs": [
    {
     "data": {
      "text/plain": [
       "array([[<Axes: title={'center': 'coffee_type'}>,\n",
       "        <Axes: title={'center': 'flavor'}>],\n",
       "       [<Axes: title={'center': 'location'}>, <Axes: >]], dtype=object)"
      ]
     },
     "execution_count": 22,
     "metadata": {},
     "output_type": "execute_result"
    },
    {
     "data": {
      "image/png": "[encoded data removed]",
      "text/plain": [
       "<Figure size 640x480 with 4 Axes>"
      ]
     },
     "metadata": {},
     "output_type": "display_data"
    }
   ],
   "source": [
    "df.hist()"
   ]
  },
  {
   "cell_type": "markdown",
   "id": "b8bdb3b1",
   "metadata": {},
   "source": [
    "**Problem 6:** Create a bar, pie chart plot to visualization of the data"
   ]
  },
  {
   "cell_type": "code",
   "execution_count": 24,
   "id": "189e307b",
   "metadata": {},
   "outputs": [
    {
     "data": {
      "text/plain": [
       "Text(0.5, 1.0, 'Total Count of each Coffee Type')"
      ]
     },
     "execution_count": 24,
     "metadata": {},
     "output_type": "execute_result"
    },
    {
     "data": {
      "image/png": "[encoded data removed]",
      "text/plain": [
       "<Figure size 640x480 with 1 Axes>"
      ]
     },
     "metadata": {},
     "output_type": "display_data"
    }
   ],
   "source": [
    "# Group the data by coffee type and\n",
    "# Calculate the total count of each coffee type\n",
    "coffee_type_counts = df['coffee_type'].value_counts()\n",
    "\n",
    "# Create a bar plot\n",
    "coffee_type_counts.plot(kind='bar')\n",
    "\n",
    "# Set x-axis and y-axis labels\n",
    "plt.xlabel('Ice Cream Type')\n",
    "plt.ylabel('Count')\n",
    "plt.title('Total Count of each Coffee Type')"
   ]
  },
  {
   "cell_type": "code",
   "execution_count": 25,
   "id": "1670a58b",
   "metadata": {},
   "outputs": [
    {
     "data": {
      "image/png": "[encoded data removed]",
      "text/plain": [
       "<Figure size 640x480 with 1 Axes>"
      ]
     },
     "metadata": {},
     "output_type": "display_data"
    }
   ],
   "source": [
    "# Calculate the count of coffee types\n",
    "coffee_type_counts = df['coffee_type'].value_counts()\n",
    "\n",
    "# Create a pie chart\n",
    "coffee_type_counts.plot(kind='pie', autopct='%1.1f%%')\n",
    "\n",
    "# Set the aspect ratio to 'equal' for a circular pie\n",
    "plt.axis('equal')\n",
    "\n",
    "# Set the title\n",
    "plt.title('Distribution of Coffee Types')\n",
    "\n",
    "# Display the plot\n",
    "plt.show()"
   ]
  },
  {
   "cell_type": "code",
   "execution_count": null,
   "id": "c4ce0a11",
   "metadata": {},
   "outputs": [],
   "source": []
  }
 ],
 "metadata": {
  "kernelspec": {
   "display_name": "Python 3 (ipykernel)",
   "language": "python",
   "name": "python3"
  },
  "language_info": {
   "codemirror_mode": {
    "name": "ipython",
    "version": 3
   },
   "file_extension": ".py",
   "mimetype": "text/x-python",
   "name": "python",
   "nbconvert_exporter": "python",
   "pygments_lexer": "ipython3",
   "version": "3.11.3"
  }
 },
 "nbformat": 4,
 "nbformat_minor": 5
}
