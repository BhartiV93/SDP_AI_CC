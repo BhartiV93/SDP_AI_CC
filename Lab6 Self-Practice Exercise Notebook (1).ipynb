{
 "cells": [
  {
   "cell_type": "markdown",
   "id": "c35dbc34",
   "metadata": {},
   "source": [
    "# EDUNET FOUNDATION - Self-Practice Exercise Notebook"
   ]
  },
  {
   "cell_type": "markdown",
   "id": "605b8908",
   "metadata": {},
   "source": [
    "# LAB 6 - Implementing OOPS Concepts in Python¶"
   ]
  },
  {
   "cell_type": "markdown",
   "id": "bbb88e11",
   "metadata": {},
   "source": [
    "# Object Oriented Programming\n"
   ]
  },
  {
   "cell_type": "markdown",
   "id": "5d48b8fb",
   "metadata": {},
   "source": [
    "Problem 1\n",
    "Fill in the Line class methods to accept coordinates as a pair of tuples and return the slope and distance of the line."
   ]
  },
  {
   "cell_type": "code",
   "execution_count": null,
   "id": "34ac1cd3",
   "metadata": {},
   "outputs": [],
   "source": []
  },
  {
   "cell_type": "markdown",
   "id": "a789b631",
   "metadata": {},
   "source": [
    "Problem 2 - XYZ"
   ]
  },
  {
   "cell_type": "code",
   "execution_count": null,
   "id": "a0478df6",
   "metadata": {},
   "outputs": [],
   "source": []
  },
  {
   "cell_type": "markdown",
   "id": "16ceb93c",
   "metadata": {},
   "source": [
    "Problem 3"
   ]
  },
  {
   "cell_type": "code",
   "execution_count": null,
   "id": "363dd39d",
   "metadata": {},
   "outputs": [],
   "source": []
  }
 ],
 "metadata": {
  "kernelspec": {
   "display_name": "Python 3",
   "language": "python",
   "name": "python3"
  },
  "language_info": {
   "codemirror_mode": {
    "name": "ipython",
    "version": 3
   },
   "file_extension": ".py",
   "mimetype": "text/x-python",
   "name": "python",
   "nbconvert_exporter": "python",
   "pygments_lexer": "ipython3",
   "version": "3.8.8"
  }
 },
 "nbformat": 4,
 "nbformat_minor": 5
}
