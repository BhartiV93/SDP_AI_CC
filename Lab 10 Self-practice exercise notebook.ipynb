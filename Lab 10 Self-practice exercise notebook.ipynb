{
 "cells": [
  {
   "cell_type": "markdown",
   "id": "e916454b",
   "metadata": {},
   "source": [
    "## EDUNET FOUNDATION - Self-Practice Exercise Notebook"
   ]
  },
  {
   "cell_type": "markdown",
   "id": "81bd2d79",
   "metadata": {},
   "source": [
    "### LAB 10 - Implementing Seaborn Concepts in Python"
   ]
  },
  {
   "cell_type": "markdown",
   "id": "d86caade",
   "metadata": {},
   "source": [
    "**Problem 1:** How to add the title to the plot using the Matplotlib."
   ]
  },
  {
   "cell_type": "code",
   "execution_count": null,
   "id": "04e62f87",
   "metadata": {},
   "outputs": [],
   "source": []
  },
  {
   "cell_type": "markdown",
   "id": "04071b0c",
   "metadata": {},
   "source": [
    "**Problem 2:** How to set the xlim and ylim"
   ]
  },
  {
   "cell_type": "code",
   "execution_count": null,
   "id": "0c263e3d",
   "metadata": {},
   "outputs": [],
   "source": []
  },
  {
   "cell_type": "markdown",
   "id": "4391de8f",
   "metadata": {},
   "source": [
    "**Problem 3:** How to use the dark theme"
   ]
  },
  {
   "cell_type": "code",
   "execution_count": null,
   "id": "01dad952",
   "metadata": {},
   "outputs": [],
   "source": []
  },
  {
   "cell_type": "markdown",
   "id": "9232b22a",
   "metadata": {},
   "source": [
    "**Problem 4:** How to Change the figure Size"
   ]
  },
  {
   "cell_type": "markdown",
   "id": "b2c10ffc",
   "metadata": {},
   "source": []
  },
  {
   "cell_type": "markdown",
   "id": "95e0c8a9",
   "metadata": {},
   "source": [
    "**Problem 5:** How to Diverge the  Color Palette"
   ]
  },
  {
   "cell_type": "code",
   "execution_count": null,
   "id": "91235479",
   "metadata": {},
   "outputs": [],
   "source": []
  },
  {
   "cell_type": "markdown",
   "id": "f29d106e",
   "metadata": {},
   "source": [
    "**Problem 6:** How to create a relational plots"
   ]
  },
  {
   "cell_type": "code",
   "execution_count": null,
   "id": "bdfb8f53",
   "metadata": {},
   "outputs": [],
   "source": []
  }
 ],
 "metadata": {
  "kernelspec": {
   "display_name": "Python 3 (ipykernel)",
   "language": "python",
   "name": "python3"
  },
  "language_info": {
   "codemirror_mode": {
    "name": "ipython",
    "version": 3
   },
   "file_extension": ".py",
   "mimetype": "text/x-python",
   "name": "python",
   "nbconvert_exporter": "python",
   "pygments_lexer": "ipython3",
   "version": "3.11.3"
  }
 },
 "nbformat": 4,
 "nbformat_minor": 5
}
