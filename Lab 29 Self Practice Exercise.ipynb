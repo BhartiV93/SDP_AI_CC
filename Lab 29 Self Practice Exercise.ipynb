{
 "cells": [
  {
   "cell_type": "markdown",
   "id": "866464d1",
   "metadata": {},
   "source": [
    "#  EDUNET FOUNDATION-Self Practice Exercise Notebook\n",
    "\n",
    "# Lab 29 Implementing LSTM and BiLSTM Classifier "
   ]
  },
  {
   "cell_type": "markdown",
   "id": "46080bda",
   "metadata": {},
   "source": [
    "Task 1: Create a combined model using a combination of LSTM and BiLSTM "
   ]
  },
  {
   "cell_type": "code",
   "execution_count": null,
   "id": "20363af2",
   "metadata": {},
   "outputs": [],
   "source": []
  }
 ],
 "metadata": {
  "kernelspec": {
   "display_name": "Python 3 (ipykernel)",
   "language": "python",
   "name": "python3"
  },
  "language_info": {
   "codemirror_mode": {
    "name": "ipython",
    "version": 3
   },
   "file_extension": ".py",
   "mimetype": "text/x-python",
   "name": "python",
   "nbconvert_exporter": "python",
   "pygments_lexer": "ipython3",
   "version": "3.9.13"
  }
 },
 "nbformat": 4,
 "nbformat_minor": 5
}
