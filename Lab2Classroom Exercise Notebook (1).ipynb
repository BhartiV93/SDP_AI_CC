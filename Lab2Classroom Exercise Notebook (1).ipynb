{
 "cells": [
  {
   "cell_type": "markdown",
   "id": "24907790",
   "metadata": {},
   "source": [
    "# EDUNET FOUNDATION-Class Exercise Notebook"
   ]
  },
  {
   "cell_type": "markdown",
   "id": "17fd94e4",
   "metadata": {},
   "source": [
    "# LAB 2 - Exercise 1-Demonstrating the Installation of Anaconda Navigator and writing the first program in Python"
   ]
  },
  {
   "cell_type": "markdown",
   "id": "cd48441a",
   "metadata": {},
   "source": [
    "Jupyter has support for over 40 different programming languages and Python is one of them. Python is a requirement (Python 3.3 or greater, or Python 2.7) for installing the Jupyter Notebook itself."
   ]
  },
  {
   "cell_type": "markdown",
   "id": "ef1990f4",
   "metadata": {},
   "source": [
    "# Installing Jupyter Notebook using PIP:"
   ]
  },
  {
   "cell_type": "code",
   "execution_count": null,
   "id": "b1036e43",
   "metadata": {},
   "outputs": [],
   "source": [
    "! pip install jupyter"
   ]
  },
  {
   "cell_type": "markdown",
   "id": "484db90c",
   "metadata": {},
   "source": [
    "# Command to run the Jupyter notebook:"
   ]
  },
  {
   "cell_type": "code",
   "execution_count": null,
   "id": "7ac7e277",
   "metadata": {},
   "outputs": [],
   "source": [
    "!jupyter notebook"
   ]
  },
  {
   "cell_type": "markdown",
   "id": "0e65b9af",
   "metadata": {},
   "source": [
    "# Create a new Notebook:"
   ]
  },
  {
   "attachments": {
    "image.png": {
     "image/png": "[encoded data removed]"
    }
   },
   "cell_type": "markdown",
   "id": "cdbfc093",
   "metadata": {},
   "source": [
    "![image.png](attachment:image.png)"
   ]
  },
  {
   "cell_type": "markdown",
   "id": "01543284",
   "metadata": {},
   "source": [
    "# Few Useful Commands:\n",
    "\n",
    "Command to open a notebook in the currently running notebook server"
   ]
  },
  {
   "cell_type": "code",
   "execution_count": null,
   "id": "4a1cdad0",
   "metadata": {},
   "outputs": [],
   "source": [
    "!jupyter notebook notebook_name.ipynb"
   ]
  },
  {
   "cell_type": "markdown",
   "id": "407a8212",
   "metadata": {},
   "source": [
    "# Command to start the notebook server without opening a web browser:"
   ]
  },
  {
   "cell_type": "code",
   "execution_count": null,
   "id": "5c81a80a",
   "metadata": {},
   "outputs": [],
   "source": [
    "!jupyter notebook --no-browser"
   ]
  },
  {
   "cell_type": "markdown",
   "id": "0a1f7f33",
   "metadata": {},
   "source": [
    "# The notebook server provides help messages for other command line arguments using the –help flag:\n"
   ]
  },
  {
   "cell_type": "code",
   "execution_count": null,
   "id": "a3539ce1",
   "metadata": {},
   "outputs": [],
   "source": [
    "!jupyter notebook --help"
   ]
  },
  {
   "cell_type": "markdown",
   "id": "b695869e",
   "metadata": {},
   "source": [
    "# Running your First code in Jupyter:\n",
    "\n",
    "Step #1: After successfully installing Jupyter write ‘jupyter notebook’ in the terminal/command prompt. This will open a new notebook server on your web browser.\n",
    "Step #2: On the top left corner, click on the new button and select python3. This will open a new notebook tab in your browser where you can start to write your first code.\n",
    "Step #3: Press Enter or click on the first cell in your notebook to go into the edit mode.\n",
    "Step #4: Now you are free to write any code.\n",
    "Step #5: You can run your code by pressing Shift + Enter or the run button provided at the top. An example code is given below:"
   ]
  },
  {
   "cell_type": "code",
   "execution_count": null,
   "id": "c61e2e99",
   "metadata": {},
   "outputs": [],
   "source": [
    "print(\"Hello World\")"
   ]
  },
  {
   "cell_type": "markdown",
   "id": "ef166825",
   "metadata": {},
   "source": [
    "# Some useful keyboard shortcuts:"
   ]
  },
  {
   "cell_type": "markdown",
   "id": "012e9900",
   "metadata": {},
   "source": [
    "To change modes(edit, command):\n",
    "\n",
    "Esc - Change mode to command mode\n",
    "Enter - Change mode to edit mode\n",
    "\n",
    "To change content type(code or markdown)\n",
    "m - Change to markdown\n",
    "y - Change to code\n",
    "\n",
    "To execute code or markdown\n",
    "Shift + Enter - Execute and go to next cell\n",
    "Ctrl + Enter  - Execute and be in the same cell\n",
    "\n",
    "To insert cell \n",
    "a - Create cell in above to the cell\n",
    "b - Create cell in below to the cell\n",
    "\n",
    "To cut copy paste \n",
    "x - Cut the cell that can be paste anywhere any number of times\n",
    "c - Copy the cell that can be paste anywhere and any number of times\n",
    "v - Paste the cell\n"
   ]
  }
 ],
 "metadata": {
  "kernelspec": {
   "display_name": "Python 3",
   "language": "python",
   "name": "python3"
  },
  "language_info": {
   "codemirror_mode": {
    "name": "ipython",
    "version": 3
   },
   "file_extension": ".py",
   "mimetype": "text/x-python",
   "name": "python",
   "nbconvert_exporter": "python",
   "pygments_lexer": "ipython3",
   "version": "3.8.8"
  }
 },
 "nbformat": 4,
 "nbformat_minor": 5
}
