{
 "cells": [
  {
   "cell_type": "markdown",
   "id": "6f7b9f29",
   "metadata": {},
   "source": [
    "#  EDUNET FOUNDATION-Self Practice Solution Notebook"
   ]
  },
  {
   "cell_type": "markdown",
   "id": "df5eaa12",
   "metadata": {},
   "source": [
    "# Lab 26 - Predicting with MLP"
   ]
  },
  {
   "cell_type": "markdown",
   "id": "4f79941e",
   "metadata": {},
   "source": [
    "Task 1: Create a model with 5 hidden layers with 64, 128, 256, 128, 64 respectively."
   ]
  },
  {
   "cell_type": "code",
   "execution_count": null,
   "id": "59af0ad3",
   "metadata": {},
   "outputs": [],
   "source": [
    "model=MLPClassifier(hidden_layer_sizes=(64,128,256,128,64), activation='relu', solver='adam')"
   ]
  },
  {
   "cell_type": "markdown",
   "id": "69ac31ca",
   "metadata": {},
   "source": [
    "Task 2: Modify the solution of Task 1 and set maximum iteration of training as 1000"
   ]
  },
  {
   "cell_type": "code",
   "execution_count": null,
   "id": "5b1f01a1",
   "metadata": {},
   "outputs": [],
   "source": [
    "model=MLPClassifier(hidden_layer_sizes=(64,128,256,128,64), activation='relu', max_iter=500, solver='adam')"
   ]
  }
 ],
 "metadata": {
  "kernelspec": {
   "display_name": "Python 3 (ipykernel)",
   "language": "python",
   "name": "python3"
  },
  "language_info": {
   "codemirror_mode": {
    "name": "ipython",
    "version": 3
   },
   "file_extension": ".py",
   "mimetype": "text/x-python",
   "name": "python",
   "nbconvert_exporter": "python",
   "pygments_lexer": "ipython3",
   "version": "3.9.13"
  }
 },
 "nbformat": 4,
 "nbformat_minor": 5
}
