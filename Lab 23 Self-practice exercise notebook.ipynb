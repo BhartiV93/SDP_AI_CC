{
 "cells": [
  {
   "cell_type": "markdown",
   "id": "89bd1faa",
   "metadata": {},
   "source": [
    "## EDUNET FOUNDATION - Self-Practice Exercise Notebook"
   ]
  },
  {
   "cell_type": "markdown",
   "id": "52317035",
   "metadata": {},
   "source": [
    "### LAB 12 - Implementing K-Means Clustering Concepts in Python"
   ]
  },
  {
   "cell_type": "markdown",
   "id": "fb68f928",
   "metadata": {},
   "source": [
    "**Problem 1:** Analyse the K value for the Wholesale customers data.csv\n",
    "\n",
    "Link for dataset : https://drive.google.com/file/d/1GIywaa13S2TzctCr1WpGZ8b-Jv4dZeD6/view?usp=drive_link"
   ]
  },
  {
   "cell_type": "code",
   "execution_count": null,
   "id": "2b5c4abb",
   "metadata": {},
   "outputs": [],
   "source": []
  }
 ],
 "metadata": {
  "kernelspec": {
   "display_name": "Python 3 (ipykernel)",
   "language": "python",
   "name": "python3"
  },
  "language_info": {
   "codemirror_mode": {
    "name": "ipython",
    "version": 3
   },
   "file_extension": ".py",
   "mimetype": "text/x-python",
   "name": "python",
   "nbconvert_exporter": "python",
   "pygments_lexer": "ipython3",
   "version": "3.11.3"
  }
 },
 "nbformat": 4,
 "nbformat_minor": 5
}
