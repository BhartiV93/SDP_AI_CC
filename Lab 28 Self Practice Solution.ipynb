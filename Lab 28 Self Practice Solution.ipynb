{
 "cells": [
  {
   "cell_type": "markdown",
   "id": "eec4aee0",
   "metadata": {},
   "source": [
    "#  EDUNET FOUNDATION Self Practice Solution Notebook\n",
    "\n",
    "# Lab 28 Implementing RNN Classifier "
   ]
  },
  {
   "cell_type": "markdown",
   "id": "74127fa7",
   "metadata": {},
   "source": [
    "Task 1:  Create an a deep learning model using RNN layer with 64 units"
   ]
  },
  {
   "cell_type": "code",
   "execution_count": null,
   "id": "a78a2965",
   "metadata": {},
   "outputs": [
    {
     "name": "stdout",
     "output_type": "stream",
     "text": [
      "Model: \"sequential\"\n",
      "_________________________________________________________________\n",
      " Layer (type)                Output Shape              Param #   \n",
      "=================================================================\n",
      " embedding (Embedding)       (None, 500, 32)           160000    \n",
      "                                                                 \n",
      " simple_rnn (SimpleRNN)      (None, 100)               13300     \n",
      "                                                                 \n",
      " dense (Dense)               (None, 1)                 101       \n",
      "                                                                 \n",
      "=================================================================\n",
      "Total params: 173,401\n",
      "Trainable params: 173,401\n",
      "Non-trainable params: 0\n",
      "_________________________________________________________________\n",
      "None\n",
      "Epoch 1/3\n",
      "391/391 [==============================] - 142s 358ms/step - loss: 0.6287 - accuracy: 0.6222 - val_loss: 0.9801 - val_accuracy: 0.5995\n",
      "Epoch 2/3\n",
      "391/391 [==============================] - 136s 348ms/step - loss: 0.4670 - accuracy: 0.7839 - val_loss: 0.4270 - val_accuracy: 0.8135\n",
      "Epoch 3/3\n",
      "388/391 [============================>.] - ETA: 0s - loss: 0.4034 - accuracy: 0.8231"
     ]
    }
   ],
   "source": [
    "\n",
    "# create the model\n",
    "embedding_vecor_length = 32\n",
    "model = Sequential()\n",
    "model.add(Embedding(top_words, embedding_vecor_length, input_length=max_review_length))\n",
    "model.add(SimpleRNN(64))\n",
    "model.add(Dense(1, activation='sigmoid'))\n",
    "model.compile(loss='binary_crossentropy', optimizer='adam', metrics=['accuracy'])\n",
    "print(model.summary())\n"
   ]
  },
  {
   "cell_type": "markdown",
   "id": "60bdefe0",
   "metadata": {},
   "source": [
    "## Print the results"
   ]
  },
  {
   "cell_type": "code",
   "execution_count": null,
   "id": "8496d2d3",
   "metadata": {},
   "outputs": [],
   "source": [
    "\n",
    "# Final evaluation of the model\n",
    "scores = model.evaluate(X_test, y_test, verbose=0)\n",
    "print(\"Accuracy: %.2f%%\" % (scores[1]*100))"
   ]
  },
  {
   "cell_type": "code",
   "execution_count": null,
   "id": "f5a43338",
   "metadata": {},
   "outputs": [],
   "source": []
  }
 ],
 "metadata": {
  "kernelspec": {
   "display_name": "Python 3 (ipykernel)",
   "language": "python",
   "name": "python3"
  },
  "language_info": {
   "codemirror_mode": {
    "name": "ipython",
    "version": 3
   },
   "file_extension": ".py",
   "mimetype": "text/x-python",
   "name": "python",
   "nbconvert_exporter": "python",
   "pygments_lexer": "ipython3",
   "version": "3.9.13"
  }
 },
 "nbformat": 4,
 "nbformat_minor": 5
}
