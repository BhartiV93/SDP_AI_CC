{
 "cells": [
  {
   "cell_type": "markdown",
   "id": "33e924b9",
   "metadata": {},
   "source": [
    "# EDUNET FOUNDATION-Self-Practice Notebook"
   ]
  },
  {
   "cell_type": "markdown",
   "id": "73ab69ed",
   "metadata": {},
   "source": [
    "# LAB 2 - Exercise 2"
   ]
  },
  {
   "cell_type": "markdown",
   "id": "6ae05c69",
   "metadata": {},
   "source": [
    "Problem 1: Write a program to print your name in capital letters."
   ]
  },
  {
   "cell_type": "code",
   "execution_count": null,
   "id": "5b9b8017",
   "metadata": {},
   "outputs": [],
   "source": []
  },
  {
   "cell_type": "markdown",
   "id": "9f6be1ec",
   "metadata": {},
   "source": [
    "Problem 2: Write a program to print integer value in python."
   ]
  },
  {
   "cell_type": "code",
   "execution_count": null,
   "id": "32d8418c",
   "metadata": {},
   "outputs": [],
   "source": []
  }
 ],
 "metadata": {
  "kernelspec": {
   "display_name": "Python 3",
   "language": "python",
   "name": "python3"
  },
  "language_info": {
   "codemirror_mode": {
    "name": "ipython",
    "version": 3
   },
   "file_extension": ".py",
   "mimetype": "text/x-python",
   "name": "python",
   "nbconvert_exporter": "python",
   "pygments_lexer": "ipython3",
   "version": "3.8.8"
  }
 },
 "nbformat": 4,
 "nbformat_minor": 5
}
