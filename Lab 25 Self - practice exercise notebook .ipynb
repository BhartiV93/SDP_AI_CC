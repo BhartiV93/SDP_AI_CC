{
 "cells": [
  {
   "cell_type": "markdown",
   "id": "9ed0fc76",
   "metadata": {},
   "source": [
    "## EDUNET FOUNDATION - Self-Practice Exercise Notebook"
   ]
  },
  {
   "cell_type": "markdown",
   "id": "c7275b83",
   "metadata": {},
   "source": [
    "### LAB 25 - Implementing a full-fledged project  Concepts in Python"
   ]
  },
  {
   "cell_type": "markdown",
   "id": "1e45797f",
   "metadata": {},
   "source": [
    "**Problem 1:** A case study on Wine Quality Classification\n",
    "\n"
   ]
  },
  {
   "cell_type": "markdown",
   "id": "524059b4",
   "metadata": {},
   "source": [
    "Link for dataset: https://drive.google.com/file/d/1BcHXr5Vnzl-BWgV7PIRFOKizqagFw18B/view?usp=drive_link"
   ]
  },
  {
   "cell_type": "code",
   "execution_count": null,
   "id": "4f0a3050",
   "metadata": {},
   "outputs": [],
   "source": []
  }
 ],
 "metadata": {
  "kernelspec": {
   "display_name": "Python 3 (ipykernel)",
   "language": "python",
   "name": "python3"
  },
  "language_info": {
   "codemirror_mode": {
    "name": "ipython",
    "version": 3
   },
   "file_extension": ".py",
   "mimetype": "text/x-python",
   "name": "python",
   "nbconvert_exporter": "python",
   "pygments_lexer": "ipython3",
   "version": "3.11.3"
  }
 },
 "nbformat": 4,
 "nbformat_minor": 5
}
