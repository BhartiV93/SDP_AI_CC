{
 "cells": [
  {
   "cell_type": "markdown",
   "metadata": {},
   "source": [
    "#  EDUNET FOUNDATION - Self-Practice Exercise Notebook solutions \n",
    "# LAB 4 - Python Data Structure"
   ]
  },
  {
   "cell_type": "markdown",
   "metadata": {},
   "source": [
    "Problem 1:Predict proper output for the below code "
   ]
  },
  {
   "cell_type": "code",
   "execution_count": 1,
   "metadata": {},
   "outputs": [
    {
     "name": "stdout",
     "output_type": "stream",
     "text": [
      "e\n"
     ]
    }
   ],
   "source": [
    "a = \"Hello, World!\"\n",
    "print(a[1])"
   ]
  },
  {
   "cell_type": "markdown",
   "metadata": {},
   "source": [
    "Problem 2\"Write a python program to concatenate two strings"
   ]
  },
  {
   "cell_type": "code",
   "execution_count": 6,
   "metadata": {},
   "outputs": [
    {
     "name": "stdout",
     "output_type": "stream",
     "text": [
      "HelloWorld\n"
     ]
    }
   ],
   "source": [
    "# Python program to  \n",
    "# string concatenation  \n",
    "  \n",
    "str1 = \"Hello\"  \n",
    "str2 = \"World\"  \n",
    "  \n",
    "# join() method is used to combine the strings  \n",
    "print(\"\".join([str1, str2]))  \n",
    "  \n",
    "# join() method is used to combine  \n",
    "# the string with a separator Space(\" \")  \n",
    "str3 = \" \".join([str1, str2])  "
   ]
  },
  {
   "cell_type": "markdown",
   "metadata": {},
   "source": [
    "Problem 3: Write a python program to reverse string"
   ]
  },
  {
   "cell_type": "code",
   "execution_count": 3,
   "metadata": {},
   "outputs": [
    {
     "name": "stdout",
     "output_type": "stream",
     "text": [
      "code practice string\n"
     ]
    }
   ],
   "source": [
    "# Python code\n",
    "# To reverse words in a given string\n",
    " \n",
    "# input string\n",
    "string = \"string practice code\"\n",
    "# reversing words in a given string\n",
    "s = string.split()[::-1]\n",
    "l = []\n",
    "for i in s:\n",
    "    # appending reversed words to l\n",
    "    l.append(i)\n",
    "# printing reverse words\n",
    "print(\" \".join(l))"
   ]
  },
  {
   "cell_type": "code",
   "execution_count": null,
   "metadata": {},
   "outputs": [],
   "source": []
  }
 ],
 "metadata": {
  "kernelspec": {
   "display_name": "Python 3",
   "language": "python",
   "name": "python3"
  },
  "language_info": {
   "codemirror_mode": {
    "name": "ipython",
    "version": 3
   },
   "file_extension": ".py",
   "mimetype": "text/x-python",
   "name": "python",
   "nbconvert_exporter": "python",
   "pygments_lexer": "ipython3",
   "version": "3.8.8"
  }
 },
 "nbformat": 4,
 "nbformat_minor": 4
}
