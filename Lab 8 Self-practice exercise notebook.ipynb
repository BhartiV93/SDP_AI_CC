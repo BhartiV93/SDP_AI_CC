{
 "cells": [
  {
   "cell_type": "markdown",
   "id": "603dfe2c",
   "metadata": {},
   "source": [
    "## EDUNET FOUNDATION - Self-Practice Exercise Notebook"
   ]
  },
  {
   "cell_type": "markdown",
   "id": "c3e375f7",
   "metadata": {},
   "source": [
    "### LAB 8 - Implementing Numpy Concepts in Python"
   ]
  },
  {
   "cell_type": "markdown",
   "id": "49e7b23c",
   "metadata": {},
   "source": [
    "Problem 1: Write a NumPy program to test whether none of the elements of a given array are zero."
   ]
  },
  {
   "cell_type": "code",
   "execution_count": null,
   "id": "e99c48cb",
   "metadata": {},
   "outputs": [],
   "source": []
  },
  {
   "cell_type": "markdown",
   "id": "3f406bde",
   "metadata": {},
   "source": [
    "Problem 2: Write a NumPy program to create an array of 10 zeros, 10 ones, and 10 fives. "
   ]
  },
  {
   "cell_type": "code",
   "execution_count": null,
   "id": "dc28d213",
   "metadata": {},
   "outputs": [],
   "source": []
  },
  {
   "cell_type": "markdown",
   "id": "60056cc8",
   "metadata": {},
   "source": [
    "Problem 3: Write a NumPy program to generate an array of 15 random numbers from a standard normal distribution."
   ]
  },
  {
   "cell_type": "code",
   "execution_count": null,
   "id": "2874b8a4",
   "metadata": {},
   "outputs": [],
   "source": []
  },
  {
   "cell_type": "markdown",
   "id": "6031b4ab",
   "metadata": {},
   "source": [
    "Problem 4: Write a NumPy program to create a two-dimensional array with shape (8,5) of random numbers. Select random numbers from a normal distribution (200,7)."
   ]
  },
  {
   "cell_type": "code",
   "execution_count": null,
   "id": "19065db9",
   "metadata": {},
   "outputs": [],
   "source": []
  },
  {
   "cell_type": "markdown",
   "id": "d3273c29",
   "metadata": {},
   "source": [
    "Problem 5: Write a NumPy program to create a 4x4 array. Create an array from said array by swapping first and last, second and third columns."
   ]
  },
  {
   "cell_type": "code",
   "execution_count": null,
   "id": "7cfe495c",
   "metadata": {},
   "outputs": [],
   "source": []
  },
  {
   "cell_type": "markdown",
   "id": "a572703e",
   "metadata": {},
   "source": [
    "Problem 6: Write a NumPy program to swap rows and columns of a given array in reverse order."
   ]
  },
  {
   "cell_type": "code",
   "execution_count": null,
   "id": "d6399e57",
   "metadata": {},
   "outputs": [],
   "source": []
  },
  {
   "cell_type": "markdown",
   "id": "084cc294",
   "metadata": {},
   "source": [
    "Problem 7: Write a NumPy program to multiply two given arrays of the same size element-by-element."
   ]
  },
  {
   "cell_type": "code",
   "execution_count": null,
   "id": "5192a4fb",
   "metadata": {},
   "outputs": [],
   "source": []
  },
  {
   "cell_type": "markdown",
   "id": "cece8212",
   "metadata": {},
   "source": [
    "Problem 8: Write a NumPy program to create a 3x3 matrix with values ranging from 2 to 10."
   ]
  },
  {
   "cell_type": "code",
   "execution_count": null,
   "id": "c651fee4",
   "metadata": {},
   "outputs": [],
   "source": []
  },
  {
   "cell_type": "markdown",
   "id": "f6ed22c3",
   "metadata": {},
   "source": [
    "Problem 9: Write a NumPy program to create a 3x3x3 array with random values.\n",
    "Expected Output:\n",
    "\n",
    "[[[ 0.48941799 0.58722213 0.43453926]\n",
    "[ 0.94497547 0.81081709 0.1510409 ]\n",
    "[ 0.66657127 0.29494755 0.48047144]]\n",
    "[[ 0.02287253 0.95232614 0.32264936]\n",
    "[ 0.67009741 0.25458304 0.16290913]\n",
    "[ 0.15520198 0.86826529 0.9679322 ]]\n",
    "[[ 0.13503103 0.02042211 0.24683897]\n",
    "[ 0.97852158 0.22374748 0.10798856]\n",
    "[ 0.62032646 0.5893892 0.16958144]]]"
   ]
  },
  {
   "cell_type": "code",
   "execution_count": null,
   "id": "c6d00ffa",
   "metadata": {},
   "outputs": [],
   "source": []
  },
  {
   "cell_type": "markdown",
   "id": "3be0503b",
   "metadata": {},
   "source": [
    "Problem 10: Write a Python program to find the maximum and minimum value of a given flattened array."
   ]
  },
  {
   "cell_type": "code",
   "execution_count": null,
   "id": "cca088a0",
   "metadata": {},
   "outputs": [],
   "source": []
  },
  {
   "cell_type": "markdown",
   "id": "13b994ea",
   "metadata": {},
   "source": [
    "Problem 11: Write a NumPy program to add, subtract, multiply, divide arguments element-wise.     \n",
    "Expected Output:\n",
    "Add:\n",
    "5.0\n",
    "Subtract:\n",
    "-3.0\n",
    "Multiply:\n",
    "4.0\n",
    "Divide:\n",
    "0.25"
   ]
  },
  {
   "cell_type": "code",
   "execution_count": null,
   "id": "9c9e8d26",
   "metadata": {},
   "outputs": [],
   "source": []
  },
  {
   "cell_type": "markdown",
   "id": "7c146966",
   "metadata": {},
   "source": [
    "Problem 12: Write a NumPy program to get the powers of an array values element-wise.\n",
    "Note: First array elements raised to powers from second array\n",
    "Expected Output:\n",
    "Original array\n",
    "[0 1 2 3 4 5 6]\n",
    "First array elements raised to powers from second array, element-wise:\n",
    "[ 0 1 8 27 64 125 216]"
   ]
  },
  {
   "cell_type": "code",
   "execution_count": null,
   "id": "d941af99",
   "metadata": {},
   "outputs": [],
   "source": []
  },
  {
   "cell_type": "markdown",
   "id": "2c681bc5",
   "metadata": {},
   "source": [
    "Problem 13: Create a Python project to guess a number that has randomly selected."
   ]
  },
  {
   "cell_type": "code",
   "execution_count": null,
   "id": "8ed2b940",
   "metadata": {},
   "outputs": [],
   "source": []
  },
  {
   "cell_type": "markdown",
   "id": "ac4db926",
   "metadata": {},
   "source": [
    "Problem 14: Write a NumPy program to create a 2D array with 1 on the border and 0 inside.        \n",
    "Expected Output:\n",
    "Original array:\n",
    "[[ 1. 1. 1. 1. 1.]\n",
    "...................\n",
    "[ 1. 1. 1. 1. 1.]]\n",
    "1 on the border and 0 inside in the array\n",
    "[[ 1. 1. 1. 1. 1.]\n",
    "...................\n",
    "[ 1. 1. 1. 1. 1.]]"
   ]
  },
  {
   "cell_type": "code",
   "execution_count": null,
   "id": "00fdc28c",
   "metadata": {},
   "outputs": [],
   "source": []
  },
  {
   "cell_type": "markdown",
   "id": "94da568d",
   "metadata": {},
   "source": [
    "Problem 15: Write a NumPy program to append values to the end of an array.                      \n",
    "Expected Output:\n",
    "Original array:\n",
    "[10, 20, 30]\n",
    "After append values to the end of the array:\n",
    "[10 20 30 40 50 60 70 80 90]"
   ]
  },
  {
   "cell_type": "code",
   "execution_count": null,
   "id": "11d2ce98",
   "metadata": {},
   "outputs": [],
   "source": []
  }
 ],
 "metadata": {
  "kernelspec": {
   "display_name": "Python 3 (ipykernel)",
   "language": "python",
   "name": "python3"
  },
  "language_info": {
   "codemirror_mode": {
    "name": "ipython",
    "version": 3
   },
   "file_extension": ".py",
   "mimetype": "text/x-python",
   "name": "python",
   "nbconvert_exporter": "python",
   "pygments_lexer": "ipython3",
   "version": "3.11.3"
  }
 },
 "nbformat": 4,
 "nbformat_minor": 5
}
