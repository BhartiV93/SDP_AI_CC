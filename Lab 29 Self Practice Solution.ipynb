{
 "cells": [
  {
   "cell_type": "markdown",
   "id": "866464d1",
   "metadata": {},
   "source": [
    "#  EDUNET FOUNDATION-Self Practice Solution Notebook\n",
    "\n",
    "# Lab 29 Implementing LSTM and BiLSTM Classifier "
   ]
  },
  {
   "cell_type": "markdown",
   "id": "a9f83770",
   "metadata": {},
   "source": [
    "Task 1: Create a combined model using a combination of LSTM and BiLSTM "
   ]
  },
  {
   "cell_type": "code",
   "execution_count": null,
   "id": "20363af2",
   "metadata": {},
   "outputs": [],
   "source": [
    "\n",
    "# create the model\n",
    "embedding_vecor_length = 32\n",
    "model = Sequential()\n",
    "model.add(Embedding(top_words, embedding_vecor_length, input_length=max_review_length))\n",
    "model.add(LSTM(100))\n",
    "model.add(Bidirectional(LSTM(100, return_sequences=True)))\n",
    "model.add(TimeDistributed(Dense(1, activation='sigmoid')))\n",
    "model.compile(loss='binary_crossentropy', optimizer='adam', metrics=['accuracy'])\n",
    "print(model.summary())\n",
    "model.fit(X_train, y_train, validation_data=(X_test, y_test), epochs=3, batch_size=64)"
   ]
  }
 ],
 "metadata": {
  "kernelspec": {
   "display_name": "Python 3 (ipykernel)",
   "language": "python",
   "name": "python3"
  },
  "language_info": {
   "codemirror_mode": {
    "name": "ipython",
    "version": 3
   },
   "file_extension": ".py",
   "mimetype": "text/x-python",
   "name": "python",
   "nbconvert_exporter": "python",
   "pygments_lexer": "ipython3",
   "version": "3.9.13"
  }
 },
 "nbformat": 4,
 "nbformat_minor": 5
}
