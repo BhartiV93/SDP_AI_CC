{
 "cells": [
  {
   "cell_type": "markdown",
   "id": "021b0b32",
   "metadata": {},
   "source": [
    "#  EDUNET FOUNDATION Self Practice Solution Notebook\n",
    "\n",
    "# Lab 31 Implement Hypertuning Techniques"
   ]
  },
  {
   "cell_type": "markdown",
   "id": "bce89f44",
   "metadata": {},
   "source": [
    "Task 1: Call the compile funtion for multiclassification"
   ]
  },
  {
   "cell_type": "code",
   "execution_count": null,
   "id": "f1cd88dc",
   "metadata": {},
   "outputs": [],
   "source": [
    "classifier.compile(optimizer = 'adam', loss = 'CategoricalCrossentropy', metrics = ['accuracy'])"
   ]
  },
  {
   "cell_type": "markdown",
   "id": "6010e5f2",
   "metadata": {},
   "source": [
    "Task 2: Add a final layer to classify 10 classes"
   ]
  },
  {
   "cell_type": "code",
   "execution_count": null,
   "id": "801b76ac",
   "metadata": {},
   "outputs": [],
   "source": [
    "model.add(Dense(10, activation = 'softmax'))"
   ]
  }
 ],
 "metadata": {
  "kernelspec": {
   "display_name": "Python 3 (ipykernel)",
   "language": "python",
   "name": "python3"
  },
  "language_info": {
   "codemirror_mode": {
    "name": "ipython",
    "version": 3
   },
   "file_extension": ".py",
   "mimetype": "text/x-python",
   "name": "python",
   "nbconvert_exporter": "python",
   "pygments_lexer": "ipython3",
   "version": "3.9.13"
  }
 },
 "nbformat": 4,
 "nbformat_minor": 5
}
