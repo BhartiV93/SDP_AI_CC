{
 "cells": [
  {
   "cell_type": "markdown",
   "id": "021b0b32",
   "metadata": {},
   "source": [
    "#  EDUNET FOUNDATION Self Practice Solution Notebook\n",
    "\n",
    "# Lab 32 Implement Optimization Techniques"
   ]
  },
  {
   "cell_type": "markdown",
   "id": "f89707e3",
   "metadata": {},
   "source": [
    "Task 1: Create a CNN based deep model and used optimization techniques to improve performance. Use val_loss as monitoring metric with early stopping.\n",
    "\n",
    "You may use the same dataset:  https://www.kaggle.com/datasets/karakaggle/kaggle-cat-vs-dog-dataset"
   ]
  },
  {
   "cell_type": "code",
   "execution_count": 1,
   "id": "188a9fed",
   "metadata": {},
   "outputs": [],
   "source": [
    "# Importing the Keras libraries and packages\n",
    "from keras.models import Sequential\n",
    "from keras.layers import Convolution2D\n",
    "from keras.layers import MaxPooling2D\n",
    "from keras.layers import Flatten\n",
    "from keras.layers import Dense\n",
    "\n",
    "\n",
    "from keras import regularizers\n",
    "from keras.layers.core import Dropout\n",
    "from keras.callbacks import EarlyStopping"
   ]
  },
  {
   "cell_type": "code",
   "execution_count": 2,
   "id": "af6006fa",
   "metadata": {},
   "outputs": [
    {
     "name": "stdout",
     "output_type": "stream",
     "text": [
      "Found 165 images belonging to 2 classes.\n",
      "Found 30 images belonging to 2 classes.\n"
     ]
    }
   ],
   "source": [
    "from keras.preprocessing.image import ImageDataGenerator\n",
    "\n",
    "# Data Augmentation\n",
    "\n",
    "train_datagen = ImageDataGenerator(rescale = 1./255,\n",
    "                                   shear_range = 0.2,\n",
    "                                   zoom_range = 0.2,\n",
    "                                   horizontal_flip = True)\n",
    "\n",
    "test_datagen = ImageDataGenerator(rescale = 1./255)\n",
    "\n",
    "training_set = train_datagen.flow_from_directory('data/train',\n",
    "                                                 target_size = (64,64),\n",
    "                                                 batch_size = 32,\n",
    "                                                 class_mode = 'binary')\n",
    "\n",
    "test_set = test_datagen.flow_from_directory('data/test',\n",
    "                                            target_size = (64,64),\n",
    "                                            batch_size = 32,\n",
    "                                            class_mode = 'binary')"
   ]
  },
  {
   "cell_type": "code",
   "execution_count": 4,
   "id": "dd056723",
   "metadata": {},
   "outputs": [],
   "source": [
    "#Initialising the CNN\n",
    "classifier1 = Sequential()\n",
    "\n",
    "classifier1.add(Convolution2D(32, 3, 3, input_shape = (64,64, 3), activation = 'relu',padding='same'))\n",
    "\n",
    "classifier1.add(Convolution2D(64, 3, 3, activation = 'relu'))\n",
    "classifier1.add(Dropout(0.25))\n",
    "\n",
    "classifier1.add(Convolution2D(128, 3, 3, activation = 'relu',padding='same', kernel_regularizer=regularizers.l1(0.0001)))\n",
    "classifier1.add(Dropout(0.25))\n",
    "\n",
    "classifier1.add(Convolution2D(128, 3, 3, activation = 'relu',kernel_regularizer=regularizers.l1(0.0001),padding='same'))\n",
    "classifier1.add(Dropout(0.25))\n",
    "\n",
    "classifier1.add(Convolution2D(128, 3, 3, activation = 'relu',kernel_regularizer=regularizers.l1(0.0001),padding='same'))\n",
    "classifier1.add(Dropout(0.25))\n",
    "\n",
    "classifier1.add(Convolution2D(64, 3, 3, activation = 'relu',kernel_regularizer=regularizers.l1(0.0001),padding='same'))\n",
    "classifier1.add(Dropout(0.25))\n",
    "\n",
    "classifier1.add(Convolution2D(32, 3, 3, activation = 'relu',kernel_regularizer=regularizers.l1(0.0001),padding='same'))\n",
    "classifier1.add(Dropout(0.25))\n",
    "\n",
    "classifier1.add(Flatten())\n",
    "\n",
    "classifier1.add(Dense(128, activation = 'relu'))\n",
    "classifier1.add(Dropout(0.25))\n",
    "classifier1.add(Dense(1, activation = 'sigmoid'))\n",
    "\n"
   ]
  },
  {
   "cell_type": "code",
   "execution_count": 5,
   "id": "07aaf5e0",
   "metadata": {},
   "outputs": [
    {
     "name": "stdout",
     "output_type": "stream",
     "text": [
      "Model: \"sequential\"\n",
      "_________________________________________________________________\n",
      " Layer (type)                Output Shape              Param #   \n",
      "=================================================================\n",
      " conv2d (Conv2D)             (None, 22, 22, 32)        896       \n",
      "                                                                 \n",
      " conv2d_1 (Conv2D)           (None, 7, 7, 64)          18496     \n",
      "                                                                 \n",
      " dropout (Dropout)           (None, 7, 7, 64)          0         \n",
      "                                                                 \n",
      " conv2d_2 (Conv2D)           (None, 3, 3, 128)         73856     \n",
      "                                                                 \n",
      " dropout_1 (Dropout)         (None, 3, 3, 128)         0         \n",
      "                                                                 \n",
      " conv2d_3 (Conv2D)           (None, 1, 1, 128)         147584    \n",
      "                                                                 \n",
      " dropout_2 (Dropout)         (None, 1, 1, 128)         0         \n",
      "                                                                 \n",
      " conv2d_4 (Conv2D)           (None, 1, 1, 128)         147584    \n",
      "                                                                 \n",
      " dropout_3 (Dropout)         (None, 1, 1, 128)         0         \n",
      "                                                                 \n",
      " conv2d_5 (Conv2D)           (None, 1, 1, 64)          73792     \n",
      "                                                                 \n",
      " dropout_4 (Dropout)         (None, 1, 1, 64)          0         \n",
      "                                                                 \n",
      " conv2d_6 (Conv2D)           (None, 1, 1, 32)          18464     \n",
      "                                                                 \n",
      " dropout_5 (Dropout)         (None, 1, 1, 32)          0         \n",
      "                                                                 \n",
      " flatten (Flatten)           (None, 32)                0         \n",
      "                                                                 \n",
      " dense (Dense)               (None, 128)               4224      \n",
      "                                                                 \n",
      " dropout_6 (Dropout)         (None, 128)               0         \n",
      "                                                                 \n",
      " dense_1 (Dense)             (None, 1)                 129       \n",
      "                                                                 \n",
      "=================================================================\n",
      "Total params: 485,025\n",
      "Trainable params: 485,025\n",
      "Non-trainable params: 0\n",
      "_________________________________________________________________\n"
     ]
    }
   ],
   "source": [
    "classifier1.compile(optimizer = 'adam', loss = 'binary_crossentropy', metrics = ['accuracy'])\n",
    "classifier1.summary()\n"
   ]
  },
  {
   "cell_type": "code",
   "execution_count": 8,
   "id": "baf30bdb",
   "metadata": {},
   "outputs": [
    {
     "name": "stdout",
     "output_type": "stream",
     "text": [
      "Epoch 1/100\n",
      "6/6 [==============================] - 1s 179ms/step - loss: 0.7016 - accuracy: 0.5152 - val_loss: 0.7021 - val_accuracy: 0.5000\n",
      "Epoch 2/100\n",
      "6/6 [==============================] - 1s 153ms/step - loss: 0.7012 - accuracy: 0.5152 - val_loss: 0.7009 - val_accuracy: 0.5000\n",
      "Epoch 3/100\n",
      "6/6 [==============================] - 1s 148ms/step - loss: 0.6998 - accuracy: 0.5152 - val_loss: 0.7004 - val_accuracy: 0.5000\n",
      "Epoch 4/100\n",
      "6/6 [==============================] - 1s 186ms/step - loss: 0.6986 - accuracy: 0.5152 - val_loss: 0.7003 - val_accuracy: 0.5000\n",
      "Epoch 5/100\n",
      "6/6 [==============================] - 1s 153ms/step - loss: 0.6993 - accuracy: 0.5152 - val_loss: 0.7003 - val_accuracy: 0.5000\n",
      "Epoch 6/100\n",
      "6/6 [==============================] - 1s 157ms/step - loss: 0.6994 - accuracy: 0.5152 - val_loss: 0.7001 - val_accuracy: 0.5000\n",
      "Epoch 7/100\n",
      "6/6 [==============================] - 1s 150ms/step - loss: 0.6992 - accuracy: 0.5152 - val_loss: 0.6999 - val_accuracy: 0.5000\n",
      "Epoch 8/100\n",
      "6/6 [==============================] - 1s 159ms/step - loss: 0.6976 - accuracy: 0.5152 - val_loss: 0.6997 - val_accuracy: 0.5000\n",
      "Epoch 9/100\n",
      "6/6 [==============================] - 1s 156ms/step - loss: 0.6989 - accuracy: 0.5152 - val_loss: 0.6995 - val_accuracy: 0.5000\n",
      "Epoch 10/100\n",
      "6/6 [==============================] - 1s 145ms/step - loss: 0.6982 - accuracy: 0.5152 - val_loss: 0.6994 - val_accuracy: 0.5000\n",
      "Epoch 11/100\n",
      "6/6 [==============================] - 1s 148ms/step - loss: 0.6994 - accuracy: 0.5152 - val_loss: 0.6995 - val_accuracy: 0.5000\n",
      "Epoch 12/100\n",
      "6/6 [==============================] - 1s 148ms/step - loss: 0.6972 - accuracy: 0.5152 - val_loss: 0.6994 - val_accuracy: 0.5000\n",
      "Epoch 13/100\n",
      "6/6 [==============================] - 1s 163ms/step - loss: 0.6982 - accuracy: 0.5152 - val_loss: 0.6993 - val_accuracy: 0.5000\n",
      "Epoch 14/100\n",
      "6/6 [==============================] - 1s 147ms/step - loss: 0.6983 - accuracy: 0.5152 - val_loss: 0.6994 - val_accuracy: 0.5000\n",
      "Epoch 15/100\n",
      "6/6 [==============================] - 1s 147ms/step - loss: 0.6984 - accuracy: 0.5152 - val_loss: 0.6994 - val_accuracy: 0.5000\n",
      "Epoch 16/100\n",
      "6/6 [==============================] - 1s 150ms/step - loss: 0.6993 - accuracy: 0.5152 - val_loss: 0.6994 - val_accuracy: 0.5000\n",
      "Epoch 17/100\n",
      "6/6 [==============================] - 1s 151ms/step - loss: 0.6986 - accuracy: 0.5152 - val_loss: 0.6995 - val_accuracy: 0.5000\n",
      "Epoch 18/100\n",
      "6/6 [==============================] - 1s 154ms/step - loss: 0.6984 - accuracy: 0.5152 - val_loss: 0.6994 - val_accuracy: 0.5000\n",
      "Epoch 19/100\n",
      "6/6 [==============================] - 1s 153ms/step - loss: 0.6988 - accuracy: 0.5152 - val_loss: 0.6996 - val_accuracy: 0.5000\n",
      "Epoch 20/100\n",
      "6/6 [==============================] - 1s 169ms/step - loss: 0.6983 - accuracy: 0.5152 - val_loss: 0.6998 - val_accuracy: 0.5000\n",
      "Epoch 21/100\n",
      "6/6 [==============================] - 1s 152ms/step - loss: 0.6980 - accuracy: 0.5152 - val_loss: 0.6999 - val_accuracy: 0.5000\n",
      "Epoch 22/100\n",
      "6/6 [==============================] - 1s 171ms/step - loss: 0.6977 - accuracy: 0.5152 - val_loss: 0.7002 - val_accuracy: 0.5000\n",
      "Epoch 23/100\n",
      "6/6 [==============================] - 1s 164ms/step - loss: 0.6984 - accuracy: 0.5152 - val_loss: 0.7004 - val_accuracy: 0.5000\n"
     ]
    }
   ],
   "source": [
    "model_variation2= classifier1.fit(training_set, epochs=100, validation_data=test_set, callbacks = [EarlyStopping(monitor='val_loss', patience=10)])"
   ]
  },
  {
   "cell_type": "markdown",
   "id": "4c4abd83",
   "metadata": {},
   "source": [
    "## Here, validation starts increasing once again at epoch 22 and 23. So, the training was stopped by early stopping to prevent overfitting."
   ]
  },
  {
   "cell_type": "code",
   "execution_count": null,
   "id": "b59e3e78",
   "metadata": {},
   "outputs": [],
   "source": []
  }
 ],
 "metadata": {
  "kernelspec": {
   "display_name": "Python 3 (ipykernel)",
   "language": "python",
   "name": "python3"
  },
  "language_info": {
   "codemirror_mode": {
    "name": "ipython",
    "version": 3
   },
   "file_extension": ".py",
   "mimetype": "text/x-python",
   "name": "python",
   "nbconvert_exporter": "python",
   "pygments_lexer": "ipython3",
   "version": "3.9.13"
  }
 },
 "nbformat": 4,
 "nbformat_minor": 5
}
