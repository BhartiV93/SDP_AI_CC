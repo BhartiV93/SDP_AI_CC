{
 "cells": [
  {
   "cell_type": "markdown",
   "id": "0efaac50",
   "metadata": {},
   "source": [
    "## EDUNET FOUNDATION - Self-Practice Exercise Notebook"
   ]
  },
  {
   "cell_type": "markdown",
   "id": "5b9abbce",
   "metadata": {},
   "source": [
    "### LAB 21 - Implementing Naive Bayes Concepts in Python"
   ]
  },
  {
   "cell_type": "markdown",
   "id": "1bac4aef",
   "metadata": {},
   "source": [
    "**Problem 1:** If the weather is sunny, then the Player should play or not?\n",
    "Link for dadtset: https://drive.google.com/file/d/1qhCClGKmlgWT7NoBw2f3Uz6GxjisLyre/view?usp=drive_link"
   ]
  },
  {
   "cell_type": "code",
   "execution_count": null,
   "id": "738238e6",
   "metadata": {},
   "outputs": [],
   "source": []
  }
 ],
 "metadata": {
  "kernelspec": {
   "display_name": "Python 3 (ipykernel)",
   "language": "python",
   "name": "python3"
  },
  "language_info": {
   "codemirror_mode": {
    "name": "ipython",
    "version": 3
   },
   "file_extension": ".py",
   "mimetype": "text/x-python",
   "name": "python",
   "nbconvert_exporter": "python",
   "pygments_lexer": "ipython3",
   "version": "3.11.3"
  }
 },
 "nbformat": 4,
 "nbformat_minor": 5
}
