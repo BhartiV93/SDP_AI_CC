{
 "cells": [
  {
   "cell_type": "markdown",
   "id": "4a6cfd8f",
   "metadata": {},
   "source": [
    "## EDUNET FOUNDATION - Self-Practice Exercise Notebook"
   ]
  },
  {
   "cell_type": "markdown",
   "id": "b2d8df82",
   "metadata": {},
   "source": [
    "### LAB 13 - Implementing EDA Concepts in Python"
   ]
  },
  {
   "cell_type": "markdown",
   "id": "925461dd",
   "metadata": {},
   "source": [
    "**Problem 1:** Build a pandas dataframe using a dataset"
   ]
  },
  {
   "cell_type": "code",
   "execution_count": null,
   "id": "337c381d",
   "metadata": {},
   "outputs": [],
   "source": []
  },
  {
   "cell_type": "markdown",
   "id": "93c03a65",
   "metadata": {},
   "source": [
    "**Problem 2:** Export the dataframe to a CSV file as a backup"
   ]
  },
  {
   "cell_type": "code",
   "execution_count": null,
   "id": "a91e8d9c",
   "metadata": {},
   "outputs": [],
   "source": []
  },
  {
   "cell_type": "markdown",
   "id": "b69f77f9",
   "metadata": {},
   "source": [
    "**Problem 3:** Display basic statistical metrics"
   ]
  },
  {
   "cell_type": "code",
   "execution_count": null,
   "id": "a0d10d02",
   "metadata": {},
   "outputs": [],
   "source": []
  },
  {
   "cell_type": "markdown",
   "id": "040cb1c0",
   "metadata": {},
   "source": [
    "**Problem 4:** Generate a correlation matrix to analyze the relationships between features"
   ]
  },
  {
   "cell_type": "code",
   "execution_count": null,
   "id": "86f3d566",
   "metadata": {},
   "outputs": [],
   "source": []
  },
  {
   "cell_type": "markdown",
   "id": "f2fb49d7",
   "metadata": {},
   "source": [
    "**Problem 5:** Create a histogram plot to visualize the distribution of the data"
   ]
  },
  {
   "cell_type": "code",
   "execution_count": null,
   "id": "b86d303e",
   "metadata": {},
   "outputs": [],
   "source": []
  },
  {
   "cell_type": "markdown",
   "id": "f79e595d",
   "metadata": {},
   "source": [
    "**Problem 6:** Create a bar, pie chart plot to visualization of the data"
   ]
  },
  {
   "cell_type": "code",
   "execution_count": null,
   "id": "72dbb11f",
   "metadata": {},
   "outputs": [],
   "source": []
  }
 ],
 "metadata": {
  "kernelspec": {
   "display_name": "Python 3 (ipykernel)",
   "language": "python",
   "name": "python3"
  },
  "language_info": {
   "codemirror_mode": {
    "name": "ipython",
    "version": 3
   },
   "file_extension": ".py",
   "mimetype": "text/x-python",
   "name": "python",
   "nbconvert_exporter": "python",
   "pygments_lexer": "ipython3",
   "version": "3.11.3"
  }
 },
 "nbformat": 4,
 "nbformat_minor": 5
}
