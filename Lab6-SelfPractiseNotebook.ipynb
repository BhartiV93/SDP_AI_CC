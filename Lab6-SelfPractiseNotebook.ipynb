{
 "cells": [
  {
   "cell_type": "markdown",
   "id": "8b8d0552",
   "metadata": {},
   "source": [
    "# EDUNET FOUNDATION - Self-Practice Exercise Notebook "
   ]
  },
  {
   "cell_type": "markdown",
   "id": "a63c368d",
   "metadata": {},
   "source": [
    "# LAB 6 - Implementing OOPS Concepts in Python"
   ]
  },
  {
   "cell_type": "markdown",
   "id": "304a7f19",
   "metadata": {},
   "source": [
    "# Object Oriented Programming"
   ]
  },
  {
   "cell_type": "markdown",
   "id": "022abb11",
   "metadata": {},
   "source": [
    "Problem 1 Fill in the Line class methods to accept coordinates as a pair of tuples and return the slope and distance of the line."
   ]
  },
  {
   "cell_type": "code",
   "execution_count": null,
   "id": "a24ba2c7",
   "metadata": {},
   "outputs": [],
   "source": []
  },
  {
   "cell_type": "markdown",
   "id": "fc15b924",
   "metadata": {},
   "source": [
    "Problem 2:Create a class and attributes name and age and display a greeting message on the display"
   ]
  },
  {
   "cell_type": "code",
   "execution_count": null,
   "id": "16991762",
   "metadata": {},
   "outputs": [],
   "source": []
  },
  {
   "cell_type": "markdown",
   "id": "150ca3a6",
   "metadata": {},
   "source": [
    "Problem 3:Write a python program describing inheritance for example Animal is a class and you can inherit various properties like all animals eat,bark etc"
   ]
  },
  {
   "cell_type": "code",
   "execution_count": null,
   "id": "eb050b9d",
   "metadata": {},
   "outputs": [],
   "source": []
  }
 ],
 "metadata": {
  "kernelspec": {
   "display_name": "Python 3",
   "language": "python",
   "name": "python3"
  },
  "language_info": {
   "codemirror_mode": {
    "name": "ipython",
    "version": 3
   },
   "file_extension": ".py",
   "mimetype": "text/x-python",
   "name": "python",
   "nbconvert_exporter": "python",
   "pygments_lexer": "ipython3",
   "version": "3.8.8"
  }
 },
 "nbformat": 4,
 "nbformat_minor": 5
}
