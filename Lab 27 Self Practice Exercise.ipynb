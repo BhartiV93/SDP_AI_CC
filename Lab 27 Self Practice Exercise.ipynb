{
 "cells": [
  {
   "cell_type": "markdown",
   "id": "5fdf5a43",
   "metadata": {},
   "source": [
    "#  EDUNET FOUNDATION-Self Practice Exercise Notebook"
   ]
  },
  {
   "cell_type": "markdown",
   "id": "995dfce2",
   "metadata": {},
   "source": [
    "# Lab 27 - Implementing CNN Classifier \n",
    "\n",
    "\n"
   ]
  },
  {
   "cell_type": "markdown",
   "id": "a5cde260",
   "metadata": {},
   "source": [
    "Task 1: Prepare input images to preprocessed target size of 244 x 244 pixel"
   ]
  },
  {
   "cell_type": "code",
   "execution_count": null,
   "id": "aa5d2c42",
   "metadata": {},
   "outputs": [],
   "source": []
  },
  {
   "cell_type": "markdown",
   "id": "7a90e95a",
   "metadata": {},
   "source": [
    "Task 2: Design a CNN based architecture with 5 CNN layers"
   ]
  },
  {
   "cell_type": "code",
   "execution_count": null,
   "id": "3ce4bc07",
   "metadata": {},
   "outputs": [],
   "source": []
  },
  {
   "cell_type": "code",
   "execution_count": null,
   "id": "786052b1",
   "metadata": {},
   "outputs": [],
   "source": []
  }
 ],
 "metadata": {
  "kernelspec": {
   "display_name": "Python 3 (ipykernel)",
   "language": "python",
   "name": "python3"
  },
  "language_info": {
   "codemirror_mode": {
    "name": "ipython",
    "version": 3
   },
   "file_extension": ".py",
   "mimetype": "text/x-python",
   "name": "python",
   "nbconvert_exporter": "python",
   "pygments_lexer": "ipython3",
   "version": "3.9.13"
  }
 },
 "nbformat": 4,
 "nbformat_minor": 5
}
