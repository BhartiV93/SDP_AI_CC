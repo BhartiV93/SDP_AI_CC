{
 "cells": [
  {
   "cell_type": "markdown",
   "id": "ae6a46aa",
   "metadata": {},
   "source": [
    "## EDUNET FOUNDATION - Self-Practice Exercise Notebook"
   ]
  },
  {
   "cell_type": "markdown",
   "id": "f882b80a",
   "metadata": {},
   "source": [
    "## LAB 24 - Implementing Ensemble Learning Concepts in Python"
   ]
  },
  {
   "cell_type": "markdown",
   "id": "eb1aad7b",
   "metadata": {},
   "source": [
    "**Problem 1:** Verify the adaboost and XGBoost on apples_and_oranges.csv dataset.\n",
    "Link for dataset: https://drive.google.com/file/d/16c3atd9XvUFUMmDIRjWnV9Io2hN3e6bo/view?usp=drive_link"
   ]
  },
  {
   "cell_type": "code",
   "execution_count": null,
   "id": "1decd01d",
   "metadata": {},
   "outputs": [],
   "source": []
  }
 ],
 "metadata": {
  "kernelspec": {
   "display_name": "Python 3 (ipykernel)",
   "language": "python",
   "name": "python3"
  },
  "language_info": {
   "codemirror_mode": {
    "name": "ipython",
    "version": 3
   },
   "file_extension": ".py",
   "mimetype": "text/x-python",
   "name": "python",
   "nbconvert_exporter": "python",
   "pygments_lexer": "ipython3",
   "version": "3.11.3"
  }
 },
 "nbformat": 4,
 "nbformat_minor": 5
}
